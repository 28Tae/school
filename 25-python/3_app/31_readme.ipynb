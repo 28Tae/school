{
 "cells": [
  {
   "cell_type": "markdown",
   "id": "82958cc5",
   "metadata": {},
   "source": [
    "# 3.0 - Flask, Jinja & Web Applications\n",
    "<hr>\n",
    "\n",
    "<div class=\"alert alert-block alert-warning\">\n",
    "This is the culmination of the past two years of computing, to develop a Flask Web Application.\n",
    "</div>\n",
    "\n",
    "On the **frontend**, you have `templates/FILE.html` as a baseline HTML structure, topped with _static_ CSS styling & JavaScript dynamic content generation.\n",
    "\n",
    "On the **backend**, you have your SQL database and the `app.py` which runs the entire programme."
   ]
  },
  {
   "cell_type": "code",
   "execution_count": null,
   "id": "2d9eb11b",
   "metadata": {
    "vscode": {
     "languageId": "ini"
    }
   },
   "outputs": [],
   "source": [
    "project/\n",
    "├── app.py                # Main application to EXECUTE\n",
    "├── templates/            # Jinja templates\n",
    "│   ├── layout.html       # Base template for Jinja\n",
    "│   └── index.html        # Extended template\n",
    "├── static/               # Static files (CSS, JavaScript, Images)\n",
    "│   ├── style.css \n",
    "│   ├── script.js\n",
    "│   └── images/\n",
    "└── database.db           # SQLite database"
   ]
  },
  {
   "cell_type": "markdown",
   "id": "c415dded",
   "metadata": {},
   "source": [
    "<hr>\n",
    "\n",
    "## **`3.1` - Dynamic Objects**\n",
    "Here are baseline files to run a simple web app."
   ]
  },
  {
   "cell_type": "code",
   "execution_count": null,
   "id": "ed41f08a",
   "metadata": {},
   "outputs": [],
   "source": [
    "# app.py\n",
    "\n",
    "from flask import Flask, render_template, redirect, url_for, request\n",
    "app = Flask(__name__)\n",
    "\n",
    "@app.route('/')\n",
    "def index():\n",
    "    return render_template('index.html')\n",
    "\n",
    "# INSERT OTHER ROUTES\n",
    "\n",
    "if __name__ == '__main__':\n",
    "    app.run(debug=True)"
   ]
  },
  {
   "cell_type": "code",
   "execution_count": null,
   "id": "37a6627b",
   "metadata": {
    "vscode": {
     "languageId": "html"
    }
   },
   "outputs": [],
   "source": [
    "<!-- templates/layout.html -->\n",
    "<!DOCTYPE html>\n",
    "<html>\n",
    "<head>\n",
    "    <!-- Take note of rel=\"stylesheet\" and the url_for to link filename-->\n",
    "    <link rel=\"stylesheet\" href=\"{{ url_for('static', filename='style.css') }}\">\n",
    "</head>\n",
    "<body>\n",
    "    {% block main %}{% end block %}\n",
    "</body>\n",
    "</html>"
   ]
  },
  {
   "cell_type": "code",
   "execution_count": null,
   "id": "1fe8035d",
   "metadata": {
    "vscode": {
     "languageId": "css"
    }
   },
   "outputs": [],
   "source": [
    "/* style.css */\n",
    "h1 {\n",
    "    color: blue;\n",
    "    font-size: 24px;\n",
    "}\n",
    ".class {\n",
    "    padding: 10px;\n",
    "}"
   ]
  },
  {
   "cell_type": "code",
   "execution_count": null,
   "id": "25a68eeb",
   "metadata": {
    "vscode": {
     "languageId": "html"
    }
   },
   "outputs": [],
   "source": [
    "<!-- templates/index.html -->\n",
    "{% extends \"base.html\" %}\n",
    "\n",
    "{% block title %}Homepage{% endblock %}\n",
    "\n",
    "{% block content %}\n",
    "    <h1>Welcome, {{ name }}!</h1>\n",
    "    \n",
    "    <!-- If-Else Condition -->\n",
    "        {% if user_role == 'admin' %}\n",
    "            <p>Admin Dashboard</p>\n",
    "        {% else %}\n",
    "            <p>User Dashboard</p>\n",
    "        {% endif %}\n",
    "    \n",
    "    <!-- For Loop -->\n",
    "    <ul>\n",
    "        {% for item in list %}\n",
    "            <li><a href=\"{{ item[0] }}\">{{ item[1] }}</a></li>\n",
    "        {% endfor %}\n",
    "    </ul>\n",
    "    \n",
    "    <!-- Filters -->\n",
    "    <p>Escapable: {{ name|safe }}</p>\n",
    "    <p>Name length: {{ name|length }}</p>\n",
    "    <p>Random number: {{ range(1,8)|length}}</p>\n",
    "{% endblock %}"
   ]
  },
  {
   "cell_type": "markdown",
   "id": "cee03650",
   "metadata": {},
   "source": [
    "### **3.1.1** - Jinja Syntax\n",
    "- `{{ ... }}` inserts variables <br>\n",
    "- `{% ... %}` refer to conditionals and logic\n",
    "<br>\n",
    "\n",
    "| Item | Syntax | ? |\n",
    "| --- | --- | --- |\n",
    "| Extension | `{% extends 'base.html' %}` |\tBase template structure |\n",
    "| Blocks | `{% block content %}...{% endblock %}` | Replaceable sections |\n",
    "| Vars | `{{ variable }}` | Output dynamic var |\n",
    "| If-else |\t`{% if %}{% elif %}{% else %}{% endif %}` | ... |\n",
    "| Loops | `{% for item in list %}...{% endfor %}` | ... |\n",
    "| Safe filter | `{{ str\\|safe }}` | Escapable characters |\n",
    "| **Length** | `{{ str\\|length }}` | Returns length |\n",
    "| **Random** | `{{ range(9)\\|random }}` | Selects random |\n",
    "| **URL Generate** | __`{{url_for('profile')}}`__ | Dynamic links |"
   ]
  },
  {
   "cell_type": "markdown",
   "id": "86038ad3",
   "metadata": {},
   "source": [
    "### **3.1.2** - URL Building\n",
    "\n",
    "You can build dynamic URLs by using **converters**.<br>\n",
    "This dumps integers/floats/strings in the URL to be processed in the route.<br>\n",
    "The format of a custom converter is **`<type: var>`** where type is either `int`, `float`, or `str` (default)."
   ]
  },
  {
   "cell_type": "code",
   "execution_count": null,
   "id": "310d2687",
   "metadata": {},
   "outputs": [],
   "source": [
    "@app.route('/conv/')\n",
    "@app.route('/conv/<float:page>/')\n",
    "def converter(page=1):\n",
    "\ttry:    \n",
    "\t\treturn render_template(\"converter.html\", page=page)\n",
    "\texcept Exception as e:\n",
    "\t\treturn str(e)\n",
    "\n",
    "# /conv/5    works\n",
    "# /conv/5.00 works\n",
    "# /conv/     defaults to page 1\n",
    "# /conv/ee   throws error"
   ]
  },
  {
   "cell_type": "markdown",
   "id": "2fbec6d6",
   "metadata": {},
   "source": [
    "To build a URL for a specific object, you can dynamically find routes/static files through `url_for(...)`.\n",
    "\n",
    "**In Python**, you normally want to just `return redirect(url_for('index'))`\n",
    "\n",
    "**In Jinja**..."
   ]
  },
  {
   "cell_type": "code",
   "execution_count": null,
   "id": "5becb4ee",
   "metadata": {
    "vscode": {
     "languageId": "html"
    }
   },
   "outputs": [],
   "source": [
    "<link rel=\"stylesheet\" href=\"{{ url_for('static', filename='style.css') }}\">\n",
    "\n",
    "<!--- or --->\n",
    "<form action=\"{{ url_for('submit', id=some_id) }}\" method=\"post\">\n",
    "    <input type=\"text\" name=\"Submittable\">\n",
    "    <input type=\"submit\" value=\"Submit\">\n",
    "</form>"
   ]
  },
  {
   "cell_type": "markdown",
   "id": "63da22ca",
   "metadata": {},
   "source": [
    "<hr>\n",
    "\n",
    "# **`3.2` - GET, POST and SQL**\n",
    "<code>GET</code> is the default method, in which data is _downloaded_ from the server to you in a non-private way\n",
    "\n",
    "<code>POST</code> is where you _submit_ data and make _server-side changes_, which is more private due to the form nature\n",
    "Remember, `from flask import request`\n",
    "\n",
    "### **3.2.1** - Form by GET Method\n",
    "> Data is sent in the URL query string `/search?query=input`<br>\n",
    "> Do note you use **`request.args.get('...')`** here"
   ]
  },
  {
   "cell_type": "code",
   "execution_count": null,
   "id": "e0432860",
   "metadata": {
    "vscode": {
     "languageId": "html"
    }
   },
   "outputs": [],
   "source": [
    "<!--- GET Method Form -->\n",
    "{% extends \"layout.html\" %}\n",
    "{% block main %}\n",
    "<form action = \"{{ url_for('get_result') }}\">\n",
    "    <p>Username: <input type = \"text\" name = \"username\"></p>\n",
    "    <p>E-mail: <input type=\"email\" name = \"email\"></p>\n",
    "    <p>Message:</p>\n",
    "    <p><textarea name = \"message\" rows=\"3\" cols=\"50\">\n",
    "    </textarea></p>\n",
    "    <p><input type=\"submit\" value=\"Post by GET\"></p>\n",
    "</form>\n",
    "{% endblock %}"
   ]
  },
  {
   "cell_type": "code",
   "execution_count": null,
   "id": "6a8f02b7",
   "metadata": {},
   "outputs": [],
   "source": [
    "from flask import request\n",
    "\n",
    "@app.route('/get_result/')\n",
    "def get_result():\n",
    "    username = request.args.get('username')\n",
    "    message = request.args.get('message')\n",
    "\n",
    "    # Parse request.args.get() values inside\n",
    "    return render_template(\n",
    "        'message_result.html',\n",
    "        username=username,\n",
    "        message=message\n",
    "    ) \n"
   ]
  },
  {
   "cell_type": "markdown",
   "id": "90cc80f6",
   "metadata": {},
   "source": [
    "### **3.2.2** - Form by POST Method\n",
    "> Explicitly mention the `method = \"POST\"` in Jinja<br>\n",
    "> Include `methods = ['GET', 'POST']` within the _route decorator_<br>\n",
    "> Use `request.form[arg]` as though it's a _list_"
   ]
  },
  {
   "cell_type": "code",
   "execution_count": null,
   "id": "1853ee2a",
   "metadata": {
    "vscode": {
     "languageId": "html"
    }
   },
   "outputs": [],
   "source": [
    "<!-- POST form method -->\n",
    "<form action=\"{{ url_for('post_result')}}\" method=\"POST\">\n",
    "    ...\n",
    "    <input type=\"submit\" value=\"Post by POST\">\n",
    "</form>"
   ]
  },
  {
   "cell_type": "code",
   "execution_count": null,
   "id": "30d85e54",
   "metadata": {},
   "outputs": [],
   "source": [
    "from flask import request\n",
    "import sqlite3\n",
    "\n",
    "def get_db():\n",
    "    db = sqlite3.connect(\"my_data.db\")\n",
    "    return db\n",
    "\n",
    "@app.route('/post_result', methods=[\"GET\", \"POST\"])\n",
    "def post_result():\n",
    "    if request.method == \"GET\":\n",
    "        return render_template(\"index.html\")\n",
    "\n",
    "    db = get_db()\n",
    "    query = \"\"\"\n",
    "    INSERT INTO posting\n",
    "    (username, email, message)\n",
    "    VALUES\n",
    "    (?,?,?)\n",
    "    \"\"\"\n",
    "\n",
    "    # Use request.form[...]\n",
    "    username = request.form['username']\n",
    "    email = request.form['email']\n",
    "    message = request.form['message']\n",
    "\n",
    "    # Executes INSERT and commits\n",
    "    db.execute(query, (username, email, message))\n",
    "    db.commit()\n",
    "    db.close()\n",
    "\n",
    "    return redirect(url_for('success'))"
   ]
  },
  {
   "cell_type": "markdown",
   "id": "f0b0a7c7",
   "metadata": {},
   "source": [
    "### **3.3.3** - CRUD Integration"
   ]
  },
  {
   "cell_type": "code",
   "execution_count": null,
   "id": "1d44914b",
   "metadata": {},
   "outputs": [],
   "source": [
    "# Find the continued data structure in templates/index.html\n",
    "\n",
    "@app.route('/success/')\n",
    "@app.route('/index/')\n",
    "def success():\n",
    "    db = get_db()\n",
    "    cursor = db.execute(\"SELECT * FROM posting\")\n",
    "    data = cursor.fetchall()\n",
    "\n",
    "    cursor.close()\n",
    "    db.close()\n",
    "\n",
    "    return render_template(\n",
    "        'index.html',\n",
    "        data=data\n",
    "    ) "
   ]
  }
 ],
 "metadata": {
  "language_info": {
   "name": "python"
  }
 },
 "nbformat": 4,
 "nbformat_minor": 5
}
