{
 "cells": [
  {
   "cell_type": "markdown",
   "id": "e9fb5cfd",
   "metadata": {},
   "source": [
    "# 2.0 - SQLITE3 and Database Integration\n",
    "--- \n",
    "## `2.1` - Relational Databases\n",
    "A relational table is as follows:\n",
    "- Values are _atomic_ (one key to one value correspondence)\n",
    "- Column values are of the same kind\n",
    "- Rows are unique\n",
    "- The order of columns is insignificant\n",
    "- Each column must have a unique name\n",
    "\n",
    "A **primary key** is the main & unique identifier of rows in a table. It is typically an ID or the NRIC equivalent.\n",
    "\n",
    "**Foreign keys** build r/s in tables by pointing to the primary key.\n",
    "\n",
    "### **2.1.1** - Normalisation of Tables\n",
    "We can break down data into proper relational tables of either one-one, one-many or many-many dependencies.\n",
    "\n",
    "> In **1<sup>st</sup>** Normal Form, all columns become atomic, such that **information per column cannot be broken down further.**\n",
    "- If a column such as \"CCAInfo\" contains value \"CCA-Teacher-ID\" (with multiple values embedded), then in 1NF, split into columns \"CCA\", \"CCA-Teacher\", \"CCA-ID\"\n",
    "\n",
    "> In **2<sup>nd</sup>** Normal Form, **every non-key must be fully dependent on the primary key**. This means if the information doesn't fully rely on the PK, it probably belongs in another table with an established relationship.\n",
    "- This can look like Student(ID, Name, Gender, Class, ClassTeacher), StudentCCA(ID, CCAName), CCAInfo(CCAName, CCA-Teacher, CCA-Times...)\n",
    "\n",
    "> In **3<sup>rd</sup>** Normal Form, there should be **no transitive dependencies**, i.e. no non-keys are reliant on other non-keys in any way.\n",
    "- Student(ID, Name, Gender, Class, ClassTeacher) is not in 3NF since ClassTeacher is dependent on Class\n",
    "- Hence we can break down to Student(ID, Name, Gender, Class) and Class(Class, ClassTeacher)\n",
    "<hr>"
   ]
  },
  {
   "cell_type": "markdown",
   "id": "29e88464",
   "metadata": {},
   "source": [
    "## `2.2` - Using SQLITE3\n",
    "\n",
    "SQLITE3 operates on `.db` files using SQL tables and commands.\n",
    "| Datatype | ? |\n",
    "| --- | --- |\n",
    "| INTEGER | Signed int value | \n",
    "| REAL | Floating point with decimal pt |\n",
    "| TEXT | String |\n",
    "\n",
    "To replace **booleans**, use INTEGER and restrain the values such that `CHECK(bool in (0, 1))`, where 0 is False and 1 is True (just for convention sake).<br>You don't need to know BLOB (Binary Large Object) or Numerics for datatypes.\n",
    "\n",
    "### **2.2.1** - CRUD\n",
    "\n",
    "| CRUD | SQLITE3 Statements |\n",
    "| --- | --- |\n",
    "| Create (Tables) | `CREATE` |\n",
    "| Read | `SELECT ... FROM ...` |\n",
    "| Update | `UPDATE ... SET ...` or `INSERT INTO ... VALUES ...` |\n",
    "| Delete | `DELETE FROM ...` |"
   ]
  },
  {
   "cell_type": "code",
   "execution_count": null,
   "id": "53fdfbae",
   "metadata": {
    "vscode": {
     "languageId": "sql"
    }
   },
   "outputs": [],
   "source": [
    "-- Creating\n",
    "CREATE TABLE pets (\n",
    "    id INTEGER PRIMARY KEY AUTOINCREMENT,\n",
    "    price INTEGER DEFAULT 0 CHECK (price >= 0),\n",
    "    sold INTEGER DEFAULT 0 CHECK (sold IN (0, 1)),\n",
    "    name TEXT NOT NULL,\n",
    "    FOREIGN KEY (id) REFERENCES pet_audits(id)\n",
    ");"
   ]
  },
  {
   "cell_type": "code",
   "execution_count": null,
   "id": "e26ad7b0",
   "metadata": {
    "vscode": {
     "languageId": "sql"
    }
   },
   "outputs": [],
   "source": [
    "-- Select\n",
    "SELECT col1, col2 FROM t1 [WHERE condition] [ORDER by col DESC];\n",
    "\n",
    "SELECT Count(*) AS \"Pets\", parentName as \"Parent Name\" FROM pets INNER JOIN pet_family ON pets.id = pet_family.id GROUP BY parentName WHERE year < 2020;"
   ]
  },
  {
   "cell_type": "code",
   "execution_count": null,
   "id": "69c182aa",
   "metadata": {
    "vscode": {
     "languageId": "sql"
    }
   },
   "outputs": [],
   "source": [
    "-- Inserting\n",
    "INSERT INTO t1 (col1, col2) VALUES (v1, v2);"
   ]
  },
  {
   "cell_type": "code",
   "execution_count": null,
   "id": "9f8845c5",
   "metadata": {
    "vscode": {
     "languageId": "sql"
    }
   },
   "outputs": [],
   "source": [
    "-- Updating\n",
    "UPDATE t1 SET col1 = v1, col2 = v2, col3 = v3 [WHERE condition];\n",
    "UPDATE enrolment SET \"count\" = \"count\" + 5 WHERE condition; --Increment the count attribute by 5"
   ]
  },
  {
   "cell_type": "code",
   "execution_count": null,
   "id": "e286b4c3",
   "metadata": {
    "vscode": {
     "languageId": "sql"
    }
   },
   "outputs": [],
   "source": [
    "-- Deleting\n",
    "DELETE FROM t1 WHERE condition;"
   ]
  },
  {
   "cell_type": "markdown",
   "id": "79ce7fe1",
   "metadata": {},
   "source": [
    "### **2.2.2** - CRUD Functions\n",
    "> To concantenate strings, do `s1||s2`\n",
    "\n",
    "| Function | ? | Eg |\n",
    "| --- | --- | --- |\n",
    "| __**`COUNT()`**__ | Count rows | `SELECT COUNT(*) FROM table` |\n",
    "| __**`MAX()/MIN()`**__ | Max/min of | ... |\n",
    "| __**`SUM()`**__ | Returns a sum | ... |\n",
    "| __**`AVG()`**__ | Averages | ... |\n",
    "| `GROUP BY col` | Aggregate by group | `SELECT company FROM sales GROUP BY agent` |\n",
    "| `LIMIT n` | Limits no. of rows | `SELECT * FROM Books LIMIT 5` |\n",
    "| __**`DISTINCT col`**__ | Unique | `SELECT DISTINCT PublisherID AS UniquePublishers FROM Book` |\n",
    "| __**`INNER JOIN`**__ | Join tables | `SELECT ... FROM t1 INNER JOIN t2 ON t1.col=t2.col` |"
   ]
  },
  {
   "cell_type": "markdown",
   "id": "c20bf257",
   "metadata": {},
   "source": [
    "### **2.2.3** - SQLITE3 in Python\n",
    "Check the implementation below, including the importing of `sqlite3` library.<br>\n",
    "- `conn = sqlite3.connect(DB_FILE)` establishes a SQL connection to run statements\n",
    "- `cursor = conn.execute(query, tup)` to execute a command. The cursor variable is only necessary for SELECT statements\n",
    "- In SELECT statements, you do `data = cursor.fetchall()` ready to process\n",
    "    - This will generate a **list of tuples**, where **each tuple is a row of data**\n",
    "- In other CRUD statements, `conn.commit()` and `conn.rollback()` commits/undoes data edits respectively.\n",
    "- Remember to close connections (and cursors if any) via `conn.close()`"
   ]
  },
  {
   "cell_type": "code",
   "execution_count": null,
   "id": "daca9bec",
   "metadata": {},
   "outputs": [],
   "source": [
    "import sqlite3\n",
    "DB_FILE = \"your_file.db\"\n",
    "some_tuple = ('', '')\n",
    "\n",
    "\n",
    "def select_query(query, tup=None):\n",
    "    # Use question marks\n",
    "    # connect, execute(\"SELECT ... WHERE val = ?\", tuple)\n",
    "    conn = sqlite3.connect(DB_FILE)\n",
    "    cursor = conn.execute(query, tup) if tup else conn.execute(query)\n",
    "    data = cursor.fetchall()\n",
    "    cursor.close()\n",
    "    conn.close()\n",
    "    return data\n",
    "\n",
    "\n",
    "def commit_query(query, tup):\n",
    "    conn = sqlite3.connect(DB_FILE)\n",
    "    conn.execute(query, tup)\n",
    "    conn.commit()\n",
    "    conn.close()\n",
    "\n",
    "\n",
    "select_query(\"SELECT * FROM books WHERE PublisherID = ? LIMIT ?\", some_tuple)\n",
    "commit_query(\"INSERT INTO books (c1, c2) VALUES (?, ?)\", some_tuple)\n",
    "commit_query('UPDATE books SET \"age\" = \"age\" + 1 WHERE id = ?', some_tuple)"
   ]
  },
  {
   "cell_type": "markdown",
   "id": "ea3b157e",
   "metadata": {},
   "source": [
    "Take note, when dealing with **custom inputs**, do not use f-strings or concatenation, but use `?` **question mark placeholders**, with a supplementary tuple of args:<br>\n",
    "❌ `conn.execute(f\"SELECT ... WHERE id = {id}\")` <br>\n",
    "✅ `conn.execute(f\"SELECT ... WHERE id = ?\", (id, ))`\n",
    "<hr>"
   ]
  },
  {
   "cell_type": "markdown",
   "id": "98930754",
   "metadata": {},
   "source": [
    "## **`2.3` - CSV Reading**\n",
    "To read a CSV file and populate it into a SQLITE3 .db file via Python,\n",
    "1. Open each file using `with open(file_path, mode)`<br>\n",
    "2. Use a **csv reader** by `csv.reader()`<br>\n",
    "3. Store **header row** by `next(reader)`<br>\n",
    "4. Generate `(?, ?...)` placeholder tuple<br>\n",
    "5. Tuple row & header into query, and execute in for loop of reader"
   ]
  },
  {
   "cell_type": "code",
   "execution_count": null,
   "id": "3d42c0cf",
   "metadata": {},
   "outputs": [],
   "source": [
    "import csv, sqlite3\n",
    "TABLE_FILES: dict = {\n",
    "    \"User\": \"users.csv\",\n",
    "    \"Job\": \"jobs.csv\",\n",
    "    \"WorkerJob\": \"workerjobs.csv\",\n",
    "    \"ContractRecord\": \"records.csv\",\n",
    "}\n",
    "DB_FILE = \"your_file.db\"\n",
    "\n",
    "def csv_read():\n",
    "    for table in TABLE_FILES:\n",
    "        conn = sqlite3.connect(DB_FILE)\n",
    "        with open(\"/data_files/{table}\") as f:\n",
    "\n",
    "            # Generate reader & get header\n",
    "            read = csv.reader(f)\n",
    "            header = next(read)\n",
    "            placeholders = \", \".join([\"?\" for _ in header])\n",
    "\n",
    "            # Dump values into placeholders per row\n",
    "            for row in read:\n",
    "                conn.execute(\n",
    "                    f\"INSERT INTO {table} ({tuple(header)}) VALUES ({placeholders})\",\n",
    "                    tuple(row)\n",
    "                )\n",
    "\n",
    "        # Remember to commit and close\n",
    "        conn.commit()\n",
    "        conn.close()"
   ]
  }
 ],
 "metadata": {
  "language_info": {
   "name": "python"
  }
 },
 "nbformat": 4,
 "nbformat_minor": 5
}
