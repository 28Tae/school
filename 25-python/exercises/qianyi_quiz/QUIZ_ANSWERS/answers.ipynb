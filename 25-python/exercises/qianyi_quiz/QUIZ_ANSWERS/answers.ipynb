{
 "cells": [
  {
   "cell_type": "markdown",
   "id": "b7bd21b7",
   "metadata": {},
   "source": [
    "# Mock Computing Paper\n",
    "**Produce of Qian Yi.**<br>Find the instructions in the attached PDF file.<br>Not that deep, but good luck still.\n",
    "\n",
    "<table>\n",
    "<tr>\n",
    "    <td>TOTAL MARKS</td><td>55</td>\n",
    "</tr>\n",
    "<tr>\n",
    "    <td>DURATION</td><td>2 HOURS</td>\n",
    "</tr>\n",
    "</table>\n",
    "<br>\n",
    "\n",
    "<hr>\n",
    "\n",
    "## TASK 1.1\n",
    "To store each game entry in Python, implement the `Entry` class according to the UML diagram. **[8]**"
   ]
  },
  {
   "cell_type": "code",
   "execution_count": 1,
   "id": "1be9595e",
   "metadata": {},
   "outputs": [],
   "source": [
    "\"\"\"\n",
    "This helper string may be convenient be you.\n",
    "{\"player_id\":..., \"player_name\":..., \"score\":..., \"timestamp\":...}\n",
    "\"\"\"\n",
    "\n",
    "class Entry:\n",
    "    def __init__(self, player_id: str, player_name: str, score: str | int, timestamp: str):\n",
    "        self._player_id: str = player_id\n",
    "        self._player_name: str = player_name\n",
    "        self._timestamp: str = timestamp\n",
    "\n",
    "        try:\n",
    "            self._score = int(score)\n",
    "        except ValueError:\n",
    "            self._score = 0\n",
    "    \n",
    "    def get_player_id(self): return self._player_id\n",
    "    def get_player_name(self): return self._player_name\n",
    "    def get_score(self): return self._score\n",
    "    def get_timestamp(self): return self._timestamp\n",
    "\n",
    "    def output(self) -> dict:\n",
    "        return {\n",
    "            \"player_id\": self.get_player_id(),\n",
    "            \"player_name\": self.get_player_name(),\n",
    "            \"score\": self.get_score(),\n",
    "            \"timestamp\": self.get_timestamp(),\n",
    "        }\n",
    "    \n",
    "    def __str__(self) -> str:\n",
    "        return f\"{self.get_player_name()} ({self.get_player_id()}) - {self.get_score()} @ {self.get_timestamp()}\"\n",
    "    \n",
    "    def __lt__(self, other) -> bool:\n",
    "        return (self.get_score(), self.get_timestamp()) < \\\n",
    "               (other.get_score(), other.get_timestamp())"
   ]
  },
  {
   "cell_type": "code",
   "execution_count": 2,
   "id": "4f61debe",
   "metadata": {},
   "outputs": [
    {
     "name": "stdout",
     "output_type": "stream",
     "text": [
      "{'player_id': 'S-2025-003', 'player_name': 'Lamar', 'score': 690, 'timestamp': '2025/08/31 23:59:59'}\n",
      "Diddy (S-2025-001) - 0 @ 2025/09/01 00:00:01\n",
      "True\n",
      "True\n",
      "False\n",
      "False\n"
     ]
    }
   ],
   "source": [
    "def test_1_1():\n",
    "    entry_1 = Entry(\"S-2025-002\", \"Drake\", 690, \"2025/09/02 12:00:00\")\n",
    "    entry_2 = Entry(\"S-2025-003\", \"Lamar\", \"690\", \"2025/08/31 23:59:59\")\n",
    "    entry_3 = Entry(\"S-2025-001\", \"Diddy\", \"abc\", \"2025/09/01 00:00:01\")\n",
    "    \n",
    "    print(entry_2.output())\n",
    "    # {'player_id': 'S-2025-003', 'player_name': 'Lamar', 'score': 690, 'timestamp': '2025/08/31 23:59:59'}\n",
    "\n",
    "    print(entry_3)\n",
    "    # Diddy (S-2025-001) - 0 @ 2025/09/01 00:00:01\n",
    "    \n",
    "    print(entry_3 < entry_1)    # True\n",
    "    print(entry_2 < entry_1)    # True\n",
    "    print(entry_1 < entry_1)    # False\n",
    "    print(entry_2 < entry_3)    # False\n",
    "\n",
    "test_1_1()"
   ]
  },
  {
   "cell_type": "markdown",
   "id": "c64fda9e",
   "metadata": {},
   "source": [
    "<hr>\n",
    "\n",
    "## TASK 1.2** (updated)\n",
    "\n",
    "Implement `merge_sort(entries: list[Entry])` to sort a list of Entries by **Merge Sort**, such that it is in **descending order**. [3]"
   ]
  },
  {
   "cell_type": "code",
   "execution_count": 3,
   "id": "1647aab4",
   "metadata": {},
   "outputs": [],
   "source": [
    "def merge_sort(entries: list) -> list:\n",
    "    if len(entries) <= 1:\n",
    "        return entries\n",
    "    mid = len(entries) // 2\n",
    "    left = merge_sort(entries[:mid])\n",
    "    right = merge_sort(entries[mid:])\n",
    "    return merge(left, right)\n",
    "\n",
    "def merge(l1: list, l2: list) -> list:\n",
    "    result = []\n",
    "    while not (len(l1) == 0 or len(l2) == 0):\n",
    "        if l1[0] > l2[0]:\n",
    "            result.append(l1.pop(0))\n",
    "        else:\n",
    "            result.append(l2.pop(0))\n",
    "    return result + l1 + l2"
   ]
  },
  {
   "cell_type": "code",
   "execution_count": 4,
   "id": "fb9e88fc",
   "metadata": {},
   "outputs": [
    {
     "name": "stdout",
     "output_type": "stream",
     "text": [
      "Gamma, Beta, Delta, Zeta, Alpha, Epsilon, "
     ]
    }
   ],
   "source": [
    "def test_1_2():\n",
    "    entries = [\n",
    "        Entry(\"S-2025-001\", \"Alpha\", 500, \"2025/09/02 12:00:00\"),\n",
    "        Entry(\"S-2025-002\", \"Beta\", 990, \"2024/01/01 00:00:01\"),\n",
    "        Entry(\"S-2025-003\", \"Gamma\", 1000, \"2025/02/28 14:03:05\"),\n",
    "        Entry(\"S-2025-004\", \"Delta\", 990, \"2023/11/09 23:59:57\"),\n",
    "        Entry(\"S-2025-006\", \"Epsilon\", \"abc\", \"2025/06/07 06:07:42\"),\n",
    "        Entry(\"S-2025-007\", \"Zeta\", 500, \"2025/09/02 12:00:01\"),\n",
    "    ]\n",
    "\n",
    "    # Gamma, Beta, Delta, Zeta, Alpha, Epsilon\n",
    "    for entry in merge_sort(entries):\n",
    "        print(entry.get_player_name(), end=\", \")\n",
    "\n",
    "test_1_2()"
   ]
  },
  {
   "cell_type": "markdown",
   "id": "c3a2295f",
   "metadata": {},
   "source": [
    "<hr>\n",
    "\n",
    "## TASK 1.3\n",
    "You are given `messy.csv`. Clean up the data, sort it then produce `clean.txt` per the specifications. **[8]**"
   ]
  },
  {
   "cell_type": "code",
   "execution_count": 5,
   "id": "02229122",
   "metadata": {},
   "outputs": [],
   "source": [
    "raws = []\n",
    "with open(\"data_files/messy.csv\") as f:\n",
    "    count_x = -1\n",
    "    for line in f:\n",
    "        count_x += 1\n",
    "        if count_x != 0:  # Skip the header\n",
    "            raws.append(line.strip())\n",
    "\n",
    "proper = []\n",
    "for row in raws:\n",
    "    data = row.split(\",\")\n",
    "    # Ignore empty names & IDs\n",
    "    if \"\" in (data[0], data[1]):    \n",
    "        continue\n",
    "    data[1] = data[1].title()\n",
    "    # Try to convert score to integer, else ignore\n",
    "    try:    \n",
    "        data[2] = int(data[2])\n",
    "    except ValueError:\n",
    "        continue\n",
    "    # Replace slashes with dashes, and add seconds\n",
    "    data[3] = data[3].replace(\"/\", \"-\")\n",
    "    if len(data[3].split(\":\")) < 3:\n",
    "        data[3] += \":00\"\n",
    "\n",
    "    proper.append(Entry(data[0], data[1], data[2], data[3]))\n",
    "\n",
    "# Sort, then find counts\n",
    "proper = merge_sort(proper)\n",
    "\n",
    "count_y = count_x - len(proper)\n",
    "scores = [entry.get_score() for entry in proper]\n",
    "count_z = round(sum(scores)/len(scores))\n",
    "\n",
    "# Output\n",
    "with open(\"clean.txt\", \"w\") as f:\n",
    "    f.write(f\"Entries processed: {count_x}\\n\")\n",
    "    f.write(f\"Entries removed: {count_y}\\n\")\n",
    "    f.write(f\"Average rounded Score: {count_z}\\n\")\n",
    "    for entry in proper:\n",
    "        f.write(str(entry) + \"\\n\")"
   ]
  },
  {
   "cell_type": "markdown",
   "id": "0efe1954",
   "metadata": {},
   "source": [
    "<hr>\n",
    "\n",
    "## TASK 2.1\n",
    "In Python, generate `tombzone.db` and the tables: `Player`, `Game`, `Entry`. The CREATE statements are to include checks, non-nulls, defaults, types and key references where appropriate. **[6]**"
   ]
  },
  {
   "cell_type": "code",
   "execution_count": 6,
   "id": "92fbdd40",
   "metadata": {},
   "outputs": [],
   "source": [
    "import sqlite3\n",
    "DB_FILE = \"tombzone.db\"\n",
    "\n",
    "query_1 = \"\"\"CREATE TABLE IF NOT EXISTS \"Player\" (\n",
    "\t\"player_id\"\tTEXT NOT NULL UNIQUE,\n",
    "\t\"name\"\tTEXT NOT NULL,\n",
    "\t\"gender\"\tINTEGER NOT NULL CHECK(gender IN ('M', 'F')),\n",
    "\t\"hp\"\tTEXT NOT NULL,\n",
    "\tPRIMARY KEY(\"player_id\")\n",
    ")\"\"\"\n",
    "query_2 = \"\"\"CREATE TABLE IF NOT EXISTS \"Game\" (\n",
    "\t\"game_id\"\tINTEGER NOT NULL UNIQUE,\n",
    "\t\"game_name\"\tTEXT NOT NULL UNIQUE,\n",
    "\t\"max_score\"\tINTEGER NOT NULL DEFAULT 1000,\n",
    "\tPRIMARY KEY(\"game_id\" AUTOINCREMENT)\n",
    ")\"\"\"\n",
    "query_3 = \"\"\"CREATE TABLE IF NOT EXISTS \"Entry\" (\n",
    "\t\"entry_id\"\tINTEGER NOT NULL UNIQUE,\n",
    "\t\"player_id\"\tTEXT NOT NULL,\n",
    "\t\"game_id\"\tINTEGER NOT NULL,\n",
    "\t\"score\"\tINTEGER NOT NULL CHECK(score >= 0),\n",
    "\t\"timestamp\"\tTEXT NOT NULL,\n",
    "\tPRIMARY KEY(\"entry_id\" AUTOINCREMENT),\n",
    "\tFOREIGN KEY(\"game_id\") REFERENCES \"Game\"(\"game_id\"),\n",
    "\tFOREIGN KEY(\"player_id\") REFERENCES \"Player\"(\"player_id\")\n",
    ")\"\"\"\n",
    "\n",
    "conn = sqlite3.connect(DB_FILE)\n",
    "for query in (query_1, query_2, query_3):\n",
    "    conn.execute(query)\n",
    "conn.commit()\n",
    "conn.close()"
   ]
  },
  {
   "cell_type": "markdown",
   "id": "b9b13149",
   "metadata": {},
   "source": [
    "<hr>\n",
    "\n",
    "## TASK 2.2\n",
    "\n",
    "Populate the corresponding tables in `tombzone.db` with files `players.csv`, `games.csv` and `entries.csv`, taking note of duplicate entries. **[7]**\n",
    "\n",
    "(Hint: To ignore duplicates, use INSERT OR IGNORE INTO)"
   ]
  },
  {
   "cell_type": "code",
   "execution_count": 7,
   "id": "f3ad360d",
   "metadata": {},
   "outputs": [],
   "source": [
    "import csv\n",
    "TABLE_FILES: dict = {\n",
    "    \"Player\": \"players.csv\",\n",
    "    \"Game\": \"games.csv\",\n",
    "    \"Entry\": \"entries.csv\"\n",
    "}\n",
    "\n",
    "conn = sqlite3.connect(DB_FILE)\n",
    "for table in TABLE_FILES:\n",
    "    with open(f\"data_files/{TABLE_FILES[table]}\") as f:\n",
    "        reading = csv.reader(f)\n",
    "        header = next(reading)\n",
    "        placeholders = \",\".join(['?' for _ in header])\n",
    "        for row in reading:\n",
    "            conn.execute(\n",
    "                f\"\"\"INSERT OR IGNORE INTO {table} {tuple(header)} VALUES ({placeholders})\"\"\",\n",
    "                tuple(row)\n",
    "            )\n",
    "            \n",
    "conn.commit()\n",
    "conn.close()"
   ]
  },
  {
   "cell_type": "markdown",
   "id": "f80aca97",
   "metadata": {},
   "source": [
    "<hr>\n",
    "\n",
    "## TASK 2.3\n",
    "\n",
    "Implement `investigate(game_name: str, gender: str)` per the specifications. **[5]**\n",
    "\n",
    "(Hint: To divide X by Y in SQL, you can do `(X*1.0)/Y` to cast X as a floating point to be divisible by Y. To round numbers in SQL, use `ROUND(number, decimal_places)`)\n",
    "\n",
    "A snippet output for the first 2 entries of female players in “Clash Royole” is as follows:\n",
    "| name | hp | timestamp | score_percentage |\n",
    "| --- | --- | --- | --- |\n",
    "| Zoey | 88385346 | 2025-09-03 16:25:00 | 0.3 |\n",
    "| Ella O'Brien | 58488556 | 2025-09-01 16:05:00 | 0.15 |"
   ]
  },
  {
   "cell_type": "code",
   "execution_count": 8,
   "id": "80f6f3c7",
   "metadata": {},
   "outputs": [],
   "source": [
    "def investigate(game_name: str, gender: str):\n",
    "    # To evaluate the score percentage,\n",
    "    # Cast entry score to integer, divide, then round to 2 d.p.\n",
    "    # When comparing by score_percentage,\n",
    "    # Just compare by score, since max_score is the same\n",
    "    query = \"\"\"\n",
    "    SELECT p.name, p.hp, e.timestamp,\n",
    "    ROUND((e.score*1.00)/g.max_score, 2) AS \"score_percentage\"\n",
    "    FROM Game g\n",
    "    INNER JOIN Entry e ON e.game_id = g.game_id\n",
    "    INNER JOIN Player p ON p.player_id = e.player_id\n",
    "    WHERE game_name = ?\n",
    "    AND gender = ?\n",
    "    ORDER BY e.score DESC, e.timestamp ASC\n",
    "    \"\"\"\n",
    "    conn = sqlite3.connect(DB_FILE)\n",
    "    cursor = conn.execute(\n",
    "        query,\n",
    "        (game_name, gender)\n",
    "    )\n",
    "    data = cursor.fetchall()\n",
    "    cursor.close()\n",
    "    conn.close()\n",
    "    return data"
   ]
  },
  {
   "cell_type": "code",
   "execution_count": 9,
   "id": "f3223111",
   "metadata": {},
   "outputs": [
    {
     "name": "stdout",
     "output_type": "stream",
     "text": [
      " | name | hp | timestamp | score_percentage |\n",
      " | Zoey | 88385346 | 2025-09-03 16:25:00 | 0.3 | \n",
      " | Ella O'Brien | 58488556 | 2025-09-01 16:05:00 | 0.15 | \n",
      " | Zoey | 88385346 | 2025-09-01 14:10:00 | 0.13 | \n",
      " | Ginna | 98343378 | 2025-09-03 12:00:00 | 0.1 | \n",
      " | Bobby Lim | 31829585 | 2025-09-03 13:50:00 | 0.09 | \n",
      " | Qwertinius | 88835466 | 2025-09-03 14:00:00 | 0.09 | \n"
     ]
    }
   ],
   "source": [
    "def test_2_3():\n",
    "    print(\" | name | hp | timestamp | score_percentage |\")\n",
    "    for row in investigate(\"Closh Royole\", \"F\"):\n",
    "        print(\"\", *row, \"\", sep=\" | \")\n",
    "\n",
    "test_2_3()"
   ]
  },
  {
   "cell_type": "markdown",
   "id": "9004fe41",
   "metadata": {},
   "source": [
    "<hr>\n",
    "\n",
    "Complete **Task 2.4** outside of this notebook with the relevant files parked under the `task_2_4/` folder.\n",
    "\n",
    "**END OF PAPER.**"
   ]
  }
 ],
 "metadata": {
  "kernelspec": {
   "display_name": "Python 3",
   "language": "python",
   "name": "python3"
  },
  "language_info": {
   "codemirror_mode": {
    "name": "ipython",
    "version": 3
   },
   "file_extension": ".py",
   "mimetype": "text/x-python",
   "name": "python",
   "nbconvert_exporter": "python",
   "pygments_lexer": "ipython3",
   "version": "3.12.3"
  }
 },
 "nbformat": 4,
 "nbformat_minor": 5
}
