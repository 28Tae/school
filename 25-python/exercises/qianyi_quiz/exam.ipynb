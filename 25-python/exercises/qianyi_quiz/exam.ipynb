{
 "cells": [
  {
   "cell_type": "markdown",
   "id": "b7bd21b7",
   "metadata": {},
   "source": [
    "# Mock Computing Paper\n",
    "**Produce of Qian Yi.**<br>Find the instructions in the attached PDF file.<br>Not that deep, but good luck still.\n",
    "\n",
    "<table>\n",
    "<tr>\n",
    "    <td>TOTAL MARKS</td><td>55</td>\n",
    "</tr>\n",
    "<tr>\n",
    "    <td>DURATION</td><td>2 HOURS</td>\n",
    "</tr>\n",
    "</table>\n",
    "<br>\n",
    "\n",
    "<hr>\n",
    "\n",
    "## TASK 1.1\n",
    "To store each game entry in Python, implement the `Entry` class according to the UML diagram. **[8]**"
   ]
  },
  {
   "cell_type": "code",
   "execution_count": null,
   "id": "1be9595e",
   "metadata": {},
   "outputs": [],
   "source": [
    "\"\"\"\n",
    "This helper string may be convenient be you.\n",
    "{\"player_id\":..., \"player_name\":..., \"score\":..., \"timestamp\":...}\n",
    "\"\"\"\n",
    "\n"
   ]
  },
  {
   "cell_type": "code",
   "execution_count": null,
   "id": "4f61debe",
   "metadata": {},
   "outputs": [],
   "source": [
    "def test_1_1():\n",
    "    entry_1 = Entry(\"S-2025-002\", \"Drake\", 690, \"2025/09/02 12:00:00\")\n",
    "    entry_2 = Entry(\"S-2025-003\", \"Lamar\", \"690\", \"2025/08/31 23:59:59\")\n",
    "    entry_3 = Entry(\"S-2025-001\", \"Diddy\", \"abc\", \"2025/09/01 00:00:01\")\n",
    "    \n",
    "    print(entry_2.output())\n",
    "    # {'player_id': 'S-2025-003', 'player_name': 'Lamar', 'score': 690, 'timestamp': '2025/08/31 23:59:59'}\n",
    "\n",
    "    print(entry_3)\n",
    "    # Diddy (S-2025-001) - 0 @ 2025/09/01 00:00:01\n",
    "    \n",
    "    print(entry_3 < entry_1)    # True\n",
    "    print(entry_2 < entry_1)    # True\n",
    "    print(entry_1 < entry_1)    # False\n",
    "    print(entry_2 < entry_3)    # False\n",
    "\n",
    "# test_1_1()"
   ]
  },
  {
   "cell_type": "markdown",
   "id": "c64fda9e",
   "metadata": {},
   "source": [
    "<hr>\n",
    "\n",
    "## TASK 1.2** (updated)\n",
    "\n",
    "Implement `merge_sort(entries: list[Entry])` to sort a list of Entries by **Merge Sort**, such that it is in **descending order**. [3]"
   ]
  },
  {
   "cell_type": "code",
   "execution_count": null,
   "id": "1647aab4",
   "metadata": {},
   "outputs": [],
   "source": [
    "def merge_sort(entries: list) -> list:\n",
    "    ..."
   ]
  },
  {
   "cell_type": "code",
   "execution_count": null,
   "id": "fb9e88fc",
   "metadata": {},
   "outputs": [],
   "source": [
    "def test_1_2():\n",
    "    entries = [\n",
    "        Entry(\"S-2025-001\", \"Alpha\", 500, \"2025/09/02 12:00:00\"),\n",
    "        Entry(\"S-2025-002\", \"Beta\", 990, \"2024/01/01 00:00:01\"),\n",
    "        Entry(\"S-2025-003\", \"Gamma\", 1000, \"2025/02/28 14:03:05\"),\n",
    "        Entry(\"S-2025-004\", \"Delta\", 990, \"2023/11/09 23:59:57\"),\n",
    "        Entry(\"S-2025-006\", \"Epsilon\", \"abc\", \"2025/06/07 06:07:42\"),\n",
    "        Entry(\"S-2025-007\", \"Zeta\", 500, \"2025/09/02 12:00:01\"),\n",
    "    ]\n",
    "\n",
    "    # Gamma, Beta, Delta, Zeta, Alpha, Epsilon\n",
    "    for entry in merge_sort(entries):\n",
    "        print(entry.get_player_name(), end=\", \")\n",
    "\n",
    "test_1_2()"
   ]
  },
  {
   "cell_type": "markdown",
   "id": "c3a2295f",
   "metadata": {},
   "source": [
    "<hr>\n",
    "\n",
    "## TASK 1.3\n",
    "You are given `messy.csv`. Clean up the data, sort it then produce `clean.txt` per the specifications. **[8]**"
   ]
  },
  {
   "cell_type": "code",
   "execution_count": null,
   "id": "02229122",
   "metadata": {},
   "outputs": [],
   "source": [
    "..."
   ]
  },
  {
   "cell_type": "markdown",
   "id": "0efe1954",
   "metadata": {},
   "source": [
    "<hr>\n",
    "\n",
    "## TASK 2.1\n",
    "In Python, generate `tombzone.db` and the tables: `Player`, `Game`, `Entry`. The CREATE statements are to include checks, non-nulls, defaults, types and key references where appropriate. **[6]**"
   ]
  },
  {
   "cell_type": "code",
   "execution_count": null,
   "id": "92fbdd40",
   "metadata": {},
   "outputs": [],
   "source": [
    "import sqlite3\n",
    "DB_FILE = \"tombzone.db\"\n",
    "\n",
    "..."
   ]
  },
  {
   "cell_type": "markdown",
   "id": "b9b13149",
   "metadata": {},
   "source": [
    "<hr>\n",
    "\n",
    "## TASK 2.2\n",
    "\n",
    "Populate the corresponding tables in `tombzone.db` with files `players.csv`, `games.csv` and `entries.csv`, taking note of duplicate entries. **[7]**\n",
    "\n",
    "(Hint: To ignore duplicates, use INSERT OR IGNORE INTO)"
   ]
  },
  {
   "cell_type": "code",
   "execution_count": null,
   "id": "f3ad360d",
   "metadata": {},
   "outputs": [],
   "source": [
    "..."
   ]
  },
  {
   "cell_type": "markdown",
   "id": "f80aca97",
   "metadata": {},
   "source": [
    "<hr>\n",
    "\n",
    "## TASK 2.3\n",
    "\n",
    "Implement `investigate(game_name: str, gender: str)` per the specifications. **[5]**\n",
    "\n",
    "(Hint: To divide X by Y in SQL, you can do `(X*1.0)/Y` to cast X as a floating point to be divisible by Y. To round numbers in SQL, use `ROUND(number, decimal_places)`)\n",
    "\n",
    "A snippet output for the first 2 entries of female players in “Clash Royole” is as follows:\n",
    "| name | hp | timestamp | score_percentage |\n",
    "| --- | --- | --- | --- |\n",
    "| Zoey | 88385346 | 2025-09-03 16:25:00 | 0.3 |\n",
    "| Ella O'Brien | 58488556 | 2025-09-01 16:05:00 | 0.15 |"
   ]
  },
  {
   "cell_type": "code",
   "execution_count": null,
   "id": "80f6f3c7",
   "metadata": {},
   "outputs": [],
   "source": [
    "def investigate(game_name: str, gender: str):\n",
    "    ..."
   ]
  },
  {
   "cell_type": "code",
   "execution_count": null,
   "id": "f3223111",
   "metadata": {},
   "outputs": [],
   "source": [
    "def test_2_3():\n",
    "    print(\" | name | hp | timestamp | score_percentage |\")\n",
    "    for row in investigate(\"Closh Royole\", \"F\"):\n",
    "        print(\"\", *row, \"\", sep=\" | \")\n",
    "\n",
    "# test_2_3()"
   ]
  },
  {
   "cell_type": "markdown",
   "id": "9004fe41",
   "metadata": {},
   "source": [
    "<hr>\n",
    "\n",
    "Complete **Task 2.4** outside of this notebook with the relevant files parked under the `task_2_4/` folder.\n",
    "\n",
    "**END OF PAPER.**"
   ]
  }
 ],
 "metadata": {
  "kernelspec": {
   "display_name": "Python 3",
   "language": "python",
   "name": "python3"
  },
  "language_info": {
   "codemirror_mode": {
    "name": "ipython",
    "version": 3
   },
   "file_extension": ".py",
   "mimetype": "text/x-python",
   "name": "python",
   "nbconvert_exporter": "python",
   "pygments_lexer": "ipython3",
   "version": "3.12.3"
  }
 },
 "nbformat": 4,
 "nbformat_minor": 5
}
