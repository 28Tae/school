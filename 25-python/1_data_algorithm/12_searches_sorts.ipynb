{
 "cells": [
  {
   "cell_type": "markdown",
   "metadata": {},
   "source": [
    "# `12.1` - Search Algorithms\n",
    "---\n",
    "<sup>[Return Home](../README.md)</sup>\n",
    "\n",
    "| Sort | Explanation | $O(best)$ | $O(worst)$ |\n",
    "| --- | --- | --- | --- |\n",
    "| _Bubble_ | **Compares adjacent** elements & bubbles maximum to the back. Repeats until no sorts required. | $n$ | $n^2$ |\n",
    "| _Insertion_ | **Rebuilds** a sorted list by forcing first element of unsorted region in place. | $n^2$ | $n^2$ |\n",
    "| _Selection_ | **Selects minimum** in unsorted region, forcing to the front of the list | $n^2$ | $n^2$ |\n",
    "| _Quick_ | Picks a **pivot** with two partitions greater or smaller, then sorting bottom-up | $n \\log n$ | $n^2$ |\n",
    "| _Merge_ | Recursively **halves** the list **bottom-up**, then merging them by **comparing first** elements in both halves | $n \\log n$ | $n \\log n$ |"
   ]
  },
  {
   "cell_type": "markdown",
   "metadata": {},
   "source": [
    "### **Bubble Sort**\n",
    "> Bubbles maximum to the back by comparing adjacent elements\n",
    "1. Run an outer _for_ loops to run `i`, the upper limit of those sorted\n",
    "2. Inner _for_ loop to determine `j`, the current index between 0 and the limit of those sorted (N-i to N is sorted)\n",
    "3. Swap `li[j]` and `li[k=j+1]` if out of order\n",
    "4. Implement `swapped` as a boolean to exit outer loop if no swaps made on outer-pass"
   ]
  },
  {
   "cell_type": "code",
   "execution_count": 1,
   "metadata": {},
   "outputs": [],
   "source": [
    "def bubble_sort(li: list) -> list:\n",
    "    N = len(li)\n",
    "\n",
    "    for i in range(0, N):\n",
    "        swapped = False\n",
    "        for j in range(0, N-i-1):\n",
    "            k = j + 1\n",
    "            # Look at element ahead (N+1) and current (N), then swap\n",
    "            if li[j] > li[k]:\n",
    "                li[j], li[k] = li[k], li[j]\n",
    "                swapped = True\n",
    "        # Stop early if no swaps (already sorted)\n",
    "        if not swapped:\n",
    "            break    \n",
    "    return li"
   ]
  },
  {
   "cell_type": "markdown",
   "metadata": {},
   "source": [
    "### **Insertion Sort**\n",
    "> Rebuilds a sorted list by inserting elements down the list and comparing leftwards\n",
    "1. Run an outer _for_ loop to run `i` and `current`\n",
    "2. Jump one spot back to land into sorted region\n",
    "3. Swap leftwards by pushing `li[j+1]` to be `li[j]` until no longer `li[j] > current` (given j is non-negative)\n",
    "4. Put back `current` in spot ahead to backtrack"
   ]
  },
  {
   "cell_type": "code",
   "execution_count": 2,
   "metadata": {},
   "outputs": [],
   "source": [
    "\"\"\"INSERTION SORT\"\"\"\n",
    "def insertion_sort(li: list) -> list:\n",
    "    for i in range(0, len(li)):\n",
    "        current = li[i]\n",
    "        j = i - 1\n",
    "\n",
    "        # Swap adjacently backwards in the sorted list\n",
    "        # If j is minimum, constraint by j >= 0\n",
    "        while j >= 0 and li[j] > current:\n",
    "            li[j + 1] = li[j]\n",
    "            j -= 1\n",
    "\n",
    "        # Backtrack a step ahead\n",
    "        li[j + 1] = current\n",
    "\n",
    "    return li"
   ]
  },
  {
   "cell_type": "markdown",
   "metadata": {},
   "source": [
    "### **Selection Sort**\n",
    "> Builds ordered sorted list by pushing minimum to front\n",
    "1. Run outer _for_ loop for `i` as full list, assume first is minimum\n",
    "2. Run inner loop for `j` between `i` and `N`. If new minimum found between `j` and recorded `j`, update\n",
    "4. Then, Swap between `min` and `j`"
   ]
  },
  {
   "cell_type": "code",
   "execution_count": 3,
   "metadata": {},
   "outputs": [],
   "source": [
    "def selection_sort(li: list) -> list:\n",
    "    for i in range(0, N := len(li)):\n",
    "        mini = i\n",
    "        # Record new minimum, then swap\n",
    "        for j in range(i, N):\n",
    "            if li[j] < li[mini]:\n",
    "                mini = j\n",
    "        li[mini], li[i] = li[i], li[mini]\n",
    "    \n",
    "    return li"
   ]
  },
  {
   "cell_type": "markdown",
   "metadata": {},
   "source": [
    "### **Quicksort**\n",
    "> Picks a pivot and partition into a bigger & smaller list, then rebuilding\n",
    "1. Base case of throwing back list\n",
    "2. Take pivot to be `li[0]` zero-indexed\n",
    "3. Run through remaining `li[1:]`, compare with pivot then append to smaller or bigger list\n",
    "4. Recursively sort the smaller list\n",
    "5. Then recursively sort the bigger list\n",
    "6. Return `[smaller, pivot, larger]` sequentially"
   ]
  },
  {
   "cell_type": "code",
   "execution_count": 4,
   "metadata": {},
   "outputs": [],
   "source": [
    "def quicksort(li: list) -> list:\n",
    "    # Base case\n",
    "    if len(li) <= 1:\n",
    "        return li\n",
    "\n",
    "    # Pivot, and compare\n",
    "    pivot = li[0]\n",
    "    left, right = [], []\n",
    "\n",
    "    for i in li[1:]:\n",
    "        if i <= pivot:\n",
    "            left.append(i)\n",
    "        else:\n",
    "            right.append(i)\n",
    "    \n",
    "    # Sort, then merge\n",
    "    sorted_left = quicksort(left)\n",
    "    sorted_right = quicksort(right)\n",
    "    return sorted_left + [pivot] + sorted_right"
   ]
  },
  {
   "cell_type": "markdown",
   "metadata": {},
   "source": [
    "### **Merge Sort**\n",
    "> Recursively halves the list by index, then merge by comparing first indexes in both halves\n",
    "1. In `merge(l1, l2) -> li`, do _while_ loop of l1 and l2 to compare equals\n",
    "2. Compare zero-index, then append the `lX.pop(0)`\n",
    "3. To account for extras, return merged list _with_ remaining l1 and l2\n",
    "4. In `merge_sort(l) -> l`, return base case of throwing back list\n",
    "5. Recursively call this function for the half below index `len//2`, then the half above\n",
    "6. Return a merger of both lists by calling `merge(left, right)`"
   ]
  },
  {
   "cell_type": "code",
   "execution_count": 5,
   "metadata": {},
   "outputs": [],
   "source": [
    "def merge(l1: list, l2: list) -> list:\n",
    "    r = []\n",
    "    # Compare first elements in both lists\n",
    "    while l1 and l2:\n",
    "        if l1[0] < l2[0]:\n",
    "            r.append(l1.pop(0))\n",
    "        else:\n",
    "            r.append(l2.pop(0))\n",
    "\n",
    "    # Append all remaining\n",
    "    return r + l1 + l2\n",
    "\n",
    "def merge_sort(l: list) -> list:\n",
    "    if len(l) <= 1:\n",
    "        return l\n",
    "    mid = len(l) // 2\n",
    "    \n",
    "    # Recursively divide half, then merge\n",
    "    left = merge_sort(l[:mid])\n",
    "    right = merge_sort(l[mid:])\n",
    "    return merge(left, right)"
   ]
  },
  {
   "cell_type": "markdown",
   "metadata": {},
   "source": [
    "# `12.2` - Sorting Algorithms\n",
    "<hr>\n",
    "\n",
    "| Search | ?? | $O(avg)$ |\n",
    "| --- | --- | --- |\n",
    "| _Unordered Linear_ | Naively look through **every element** | $n$ |\n",
    "| _Ordered Linear_ | Assume linearly ordered, naive but can **stop early** | $n-k$ |\n",
    "| _Binary_ | Look **midway** in ordered list, then look **left or right** | $\\log n$ |"
   ]
  },
  {
   "cell_type": "markdown",
   "metadata": {},
   "source": [
    "### **Linear Search**\n",
    "It's not that deep."
   ]
  },
  {
   "cell_type": "code",
   "execution_count": 6,
   "metadata": {},
   "outputs": [],
   "source": [
    "def unordered_linear_search(li: list, item) -> int | bool:\n",
    "    for idx, element in enumerate(li):\n",
    "        if element == item:\n",
    "            return idx\n",
    "    return False\n",
    "\n",
    "def ordered_linear_search(li: list, item) -> int | bool:\n",
    "    for idx, element in enumerate(li):\n",
    "        if element == item:\n",
    "            return idx\n",
    "        elif element > item:\n",
    "            return False\n",
    "    return False"
   ]
  },
  {
   "cell_type": "markdown",
   "metadata": {},
   "source": [
    "### **Binary Search (if sorted)**\n",
    "1. Set low of `0` and high of `len(li)-1` (initiate high to be _None_ then implement this in function)\n",
    "2. Base case of falseness, where `high < low`\n",
    "3. Find `mid` by averaging `high` and `low`\n",
    "4. If `item` matches `mid`, base case of truth\n",
    "5. Elif `mid` is higher, restrict _upper bound_ where `high = mid-1`\n",
    "6. Else `mid` is lower, restrict _lower bound_ where `low = mid+1`"
   ]
  },
  {
   "cell_type": "code",
   "execution_count": 7,
   "metadata": {},
   "outputs": [],
   "source": [
    "def binary_search(li: list, item, low=0, high=None) -> int:\n",
    "    if high is None:\n",
    "        high = len(li) - 1\n",
    "    # False case\n",
    "    if high < low:\n",
    "        return False\n",
    "    \n",
    "    # Floor average\n",
    "    mid = (high + low)//2\n",
    "    # True case - match\n",
    "    if item == li[mid]:\n",
    "        return True\n",
    "    # Go lower, upper bound to mid-1\n",
    "    elif item < li[mid]:\n",
    "        return binary_search(li, item, low, mid-1)\n",
    "    # Go higher, lower bound to mid+1\n",
    "    else:\n",
    "        return binary_search(li, item, mid+1, high)"
   ]
  }
 ],
 "metadata": {
  "kernelspec": {
   "display_name": ".venv",
   "language": "python",
   "name": "python3"
  },
  "language_info": {
   "codemirror_mode": {
    "name": "ipython",
    "version": 3
   },
   "file_extension": ".py",
   "mimetype": "text/x-python",
   "name": "python",
   "nbconvert_exporter": "python",
   "pygments_lexer": "ipython3",
   "version": "3.12.3"
  }
 },
 "nbformat": 4,
 "nbformat_minor": 2
}
