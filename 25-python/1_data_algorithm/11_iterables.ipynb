{
 "cells": [
  {
   "cell_type": "markdown",
   "metadata": {},
   "source": [
    "# 11 - Lists, Tuples, Sets, Dicts\n",
    "\n",
    "---\n",
    "<sup>[Return Home](../README.md)</sup>\n",
    "\n",
    "| Iterable | ? | Common methods |\n",
    "| --- | --- | --- |\n",
    "| **list** <br> `[a, b, c]` | Ordered, mutable, and can have duplicate elements | `li = str.strip()`<br>`len(li)`<br>`li.append(item)`<br> `li.extend(li)`<br> `li.remove(item)`<br> `li.pop(idx)`<br> `li.insert(idx, item)`<br> `li.index(item)`<br> `li.sort()` <br>`li[start:stop:step]`<br> `for i in li` |\n",
    "| **tuple** <br> `(a, b, c)` | Ordered, **immutable**, can have duplicate elements | `tuple(iterable)`<br> `len(tup)`<br> `tup[start:stop:step]`<br> `for i in tup`|\n",
    "| **set** <br> `{a, b, c}` | **Unordered**, immutable, must be **unique**, can apply mathematical set methods | `set(iterable)`<br> `st.add(item)` <br> `st.update(iter)` <br> `st.discard(iter)` <br> `s1 \\| s2` <br> `s1 & s2` <br> `s1 - s2` <br> `s1 ^ s2` <br> `len(st)`<br> `for i in st`|\n",
    "| **dict** <br> `{k1: v1, k2: v2}` | Ordered, mutable, keys to be unique, **non-indexed** - instead by **key-value** access | `len(dic)`<br>`dic.get(key)`<br>`dic[key]`<br>`list(dic.keys())`<br>`list(dic.values())`<br>`list(dic.items())`<br>`for key in dic`|"
   ]
  },
  {
   "cell_type": "markdown",
   "metadata": {},
   "source": [
    "<hr>\n",
    "\n",
    "## `11.1` - **List** [a, b, c]\n",
    "\n",
    "A _list_ (aka array) is a one-dimensional sequence of all elements of **any** type.\n",
    "- They can be accessed by **index**, which starts from `0` running up to `len(li) - 1`\n",
    "- To access an element of some index, `li[index]` returns the item.\n",
    "- List values can be changed. `li[index] = val` helps **update** the list element.\n",
    "- To return a **subsequence**, do splicing as so: `li[start:stop:step]` which behaves like _`range(start:stop:step)`_\n",
    "    - `start` is inclusive\n",
    "    - `stop` is exclusive\n",
    "    - `step` reflects the incremental change, but it is optional"
   ]
  },
  {
   "cell_type": "code",
   "execution_count": 1,
   "metadata": {},
   "outputs": [
    {
     "name": "stdout",
     "output_type": "stream",
     "text": [
      "0 1 apple banana True grapes \n",
      "0 1 apple banana True grapes "
     ]
    }
   ],
   "source": [
    "li = [0, 1, 2, \"banana\", True, \"grapes\"]\n",
    "\n",
    "assert li[0] == 0\n",
    "assert li[3] == \"banana\"\n",
    "\n",
    "# Negative index searches backwards\n",
    "assert li[-1] == \"grapes\"\n",
    "assert li[-2] == True\n",
    "\n",
    "# Update new value\n",
    "li[2] = \"apple\"\n",
    "assert li[2] == \"apple\"\n",
    "\n",
    "# Splicing\n",
    "assert li[2:] == [\"apple\", \"banana\", True, \"grapes\"]\n",
    "assert li[1:4:2] == [1, \"banana\"]\n",
    "\n",
    "# Method 1 of \"for\" loop\n",
    "for i in range(len(li)):\n",
    "    print(li[i], end=\" \")\n",
    "print()\n",
    "\n",
    "# Method 2 of \"for\" loop\n",
    "for item in li:\n",
    "    print(item, end=\" \")"
   ]
  },
  {
   "cell_type": "code",
   "execution_count": 2,
   "metadata": {},
   "outputs": [
    {
     "name": "stdout",
     "output_type": "stream",
     "text": [
      "0,0: 1 | 0,1: 2 | 0,2: 3 | \n",
      "1,0: 4 | 1,1: 5 | 1,2: 6 | \n",
      "2,0: 7 | 2,1: 8 | \n",
      "3,0: a | \n"
     ]
    }
   ],
   "source": [
    "\"\"\"NESTED LISTS AND LOOPS\"\"\"\n",
    "# This is key to 2-dimensional programming\n",
    "li = [[1, 2, 3], [4, 5, 6], [7, 8], ['a']]\n",
    "\n",
    "for i in range(len(li)):\n",
    "    for j in range(len(li[i])):\n",
    "        print(f\"{i},{j}: {li[i][j]}\", end=\" | \")\n",
    "    print()"
   ]
  },
  {
   "cell_type": "markdown",
   "metadata": {},
   "source": [
    "| Method | Return | ? |\n",
    "| --- | --- | --- |\n",
    "| `len(li)` | int | **No. of elements** in the list, fairly standard. |\n",
    "| `li.index(item)` | int \\| ValueError | Tries to return **index** of the item. If not found, raises ValueError |\n",
    "| `li.append(item)` | - | **Adds to end** of the list |\n",
    "| `li.extend(l2)` | - | Appends **all items** of an iterable inside itself |\n",
    "| `li.remove(item)` | - \\| ValueError | Removes the **first occurrence** of the element. If not found, raises ValueError <br> Can use inside `while item in li` to remove _all_ instances |\n",
    "| `li.pop(idx)` | item | Removes an item **by index**. By default if `idx` not supplied, remove last index.<br> Then **returns item** that has been popped. |\n",
    "| `li.insert(idx, item)` | - | **Inserts** an item at given index, thereby pushing all elements that follow after backwards <br> _If invalid index, appends instead._ |\n",
    "| `li.sort()` | - | **Sorts** a list |"
   ]
  },
  {
   "cell_type": "code",
   "execution_count": 3,
   "metadata": {},
   "outputs": [],
   "source": [
    "things: list = [\"A\", \"B\", \"C\"]\n",
    "\n",
    "# Accession\n",
    "assert len(things) == 3\n",
    "assert things.index(\"B\") == 1\n",
    "try:\n",
    "    things.index(\"D\")\n",
    "except ValueError:\n",
    "    pass\n",
    "\n",
    "# Appending\n",
    "things.append(\"D\")\n",
    "assert things == [\"A\", \"B\", \"C\", \"D\"]\n",
    "\n",
    "things.extend([\"F\", \"G\"])\n",
    "assert things == [\"A\", \"B\", \"C\", \"D\", \"F\", \"G\"]\n",
    "\n",
    "things.insert(4, \"E\")\n",
    "assert things == [\"A\", \"B\", \"C\", \"D\", \"E\", \"F\", \"G\"]\n",
    "\n",
    "# Removal\n",
    "things.remove(\"A\")\n",
    "assert things == [\"B\", \"C\", \"D\", \"E\", \"F\", \"G\"]\n",
    "try:\n",
    "    things.remove(\"A\")\n",
    "except ValueError:\n",
    "    pass\n",
    "\n",
    "# Pop\n",
    "popped: str = things.pop(2)\n",
    "assert popped == \"D\"\n",
    "assert things == [\"B\", \"C\", \"E\", \"F\", \"G\"]"
   ]
  },
  {
   "cell_type": "code",
   "execution_count": null,
   "metadata": {},
   "outputs": [],
   "source": [
    "data = []\n",
    "with open(\"some_file\") as f:\n",
    "    [data.append(i.strip()) for i in f]\n",
    "\n",
    "with open(\"some_file\") as f:\n",
    "    data.extend([i.strip() for i in list])\n",
    "\n",
    "# While both of the methods use list comprehension to effectively record lists\n",
    "# The bottom method is preferred\n",
    "# As lst.append() in the list comprehension dumps None values\n",
    "# Which wastes memory at scales, especially if \"f\" the iterable file is big"
   ]
  },
  {
   "cell_type": "markdown",
   "metadata": {},
   "source": [
    "Here's a neat trick to **compare two lists by order** in its elements."
   ]
  },
  {
   "cell_type": "code",
   "execution_count": 4,
   "metadata": {},
   "outputs": [],
   "source": [
    "\"\"\"A neat trick to compare by order\n",
    "Say you want to compare two lists by order of grades, aura, then mewing streak\"\"\"\n",
    "\n",
    "def better_than_other(s1: dict, s2: dict) -> bool:\n",
    "    return (s1[\"grades\"], s1[\"aura\"], s1[\"mewing_streak\"]) > \\\n",
    "        (s2[\"grades\"], s2[\"aura\"], s2[\"mewing_streak\"])\n",
    "\n",
    "student_A = {\"grades\": 90, \"aura\": 100, \"mewing_streak\": 5}\n",
    "student_B = {\"grades\": 80, \"aura\": 420, \"mewing_streak\": 100}\n",
    "student_C = {\"grades\": 90, \"aura\": 200, \"mewing_streak\": 0}\n",
    "assert better_than_other(student_A, student_B) == True\n",
    "assert better_than_other(student_A, student_C) == False"
   ]
  },
  {
   "cell_type": "markdown",
   "metadata": {},
   "source": [
    "## `11.2` - **Tuple** (a, b, c)\n",
    "\n",
    "A _tuple_ is basically a list, but **the values cannot be updated (immutable)**. <br>\n",
    "It mainly **stores constants**, since tuples save more space and save time than lists."
   ]
  },
  {
   "cell_type": "code",
   "execution_count": 5,
   "metadata": {},
   "outputs": [
    {
     "name": "stdout",
     "output_type": "stream",
     "text": [
      "1 2 3 black white "
     ]
    }
   ],
   "source": [
    "tup_A = (1, 2, 3)\n",
    "tup_B = (\"black\", \"white\")\n",
    "\n",
    "# Accession\n",
    "assert len(tup_A) == 3\n",
    "assert tup_A[0] == 1\n",
    "assert tup_B[1] == \"white\"\n",
    "assert tup_A[1:] == (2, 3)\n",
    "\n",
    "# For loop (and some concatenation)\n",
    "for item in tup_A + tup_B:\n",
    "    print(item, end=\" \")"
   ]
  },
  {
   "cell_type": "markdown",
   "metadata": {},
   "source": [
    "## `11.3` - **Set** {a, b, c}\n",
    "A _set_ cannot be ordered, has no index, and cannot have repeating values.\n",
    "The applicational value of sets is how **elements occur only once**, and therefore you can apply **mathematical set operations** (familiar yet?)\n",
    "\n",
    "| Method | Return | ? |\n",
    "| --- | --- | --- |\n",
    "| `st.add(item)` | - | Adds an item |\n",
    "| `st.update(iter)` | - | Adds **all elements in an iterable** into the set |\n",
    "| `st.remove(item)` | - \\| ValueError | Removes an item. If not found, raise ValueError |\n",
    "| `st.discard(item)` | - | Removes an item, but will not raise errors regardless |"
   ]
  },
  {
   "cell_type": "code",
   "execution_count": 6,
   "metadata": {},
   "outputs": [],
   "source": [
    "my_set = {1, 2, 3, 4, 5}\n",
    "\n",
    "assert (1 in my_set) == True\n",
    "\n",
    "# WEEDING out duplicates\n",
    "messy_list = [3,1,2,3,5,7,8,9,4,3,2,5,6]\n",
    "cleaned_set = set(messy_list)\n",
    "\n",
    "# Sorting is not a problem, since sets are UNORDERED\n",
    "assert cleaned_set == set(range(1, 10))\n",
    "\n",
    "# Adding and updating\n",
    "my_set.add(6)\n",
    "my_set.update({7, 8, 9})\n",
    "\n",
    "assert my_set == {1, 2, 3, 4, 5, 6, 7, 8, 9}\n",
    "\n",
    "# Removing VS discarding\n",
    "my_set.remove(6)\n",
    "assert 6 not in my_set\n",
    "my_set.discard(6)  # No error\n",
    "try:\n",
    "    my_set.remove(6)\n",
    "except KeyError:\n",
    "    pass"
   ]
  },
  {
   "cell_type": "markdown",
   "metadata": {},
   "source": [
    "The following are **mathematical set** operations, that returns a _new set_ based on the operation:\n",
    "| Method | Alias | ? |\n",
    "| --- | --- | --- |\n",
    "| `A \\| B` | `A.union(B)` | All unique elements in **both** sets |\n",
    "| `A & B` | `A.intersection(B)` | Elements found **mutually in both** sets |\n",
    "| `A - B` | `A.difference(B)` | Elements **only in** A but not B |\n",
    "| `A ^ B` | `A.symmetric_difference(B)` | Elements found in **either** A or B exclusively, but not both |"
   ]
  },
  {
   "cell_type": "code",
   "execution_count": 7,
   "metadata": {},
   "outputs": [],
   "source": [
    "A: set = {1, 2, 3, 4, 5}\n",
    "B: set = {4, 5, 6, 7, 8}\n",
    "\n",
    "assert A | B == {1, 2, 3, 4, 5, 6, 7, 8}    # Union\n",
    "assert A & B == {4, 5}                      # Intersection\n",
    "assert A - B == {1, 2, 3}                   # Difference\n",
    "assert B - A == {6, 7, 8}\n",
    "assert A ^ B == {1, 2, 3, 6, 7, 8}          # Symmetric difference"
   ]
  },
  {
   "cell_type": "markdown",
   "metadata": {},
   "source": [
    "## `11.4` Dictionaries {k: v, k: v}\n",
    "\n",
    "Like how a dictionary has a word and its definition, dictionaries are unique sequences that stores a **key** for a **value**. In that sense, dictionaries aren't indexed by the usual 0, 1, 2, but instead directly **indexing by key**.\n",
    "\n",
    "| Dict Method | Return | ? |\n",
    "| --- | --- | --- |\n",
    "| `dic[key]` | value \\| KeyError | Tries to access **value** by the key. <br> If key invalid, raises KeyError | \n",
    "| `dic.get(key)` | value \\| None | Like `dic[key]`, but returns _None_ if key invalid |\n",
    "| `dic[key] = value` | - | Make a **new entry**, or updates existing one if key exists |\n",
    "| `len(dic)` | int | **No. of entries** in the dictionary |\n",
    "| `for key in dic` | - | Loops through the dict, the iterable is the key per se |"
   ]
  },
  {
   "cell_type": "code",
   "execution_count": 8,
   "metadata": {},
   "outputs": [
    {
     "name": "stdout",
     "output_type": "stream",
     "text": [
      "name: Yor Forger\n",
      "sex: F\n",
      "alive: True\n",
      "age: 27\n",
      "occupation: ['City Hall Clerk', 'Assassin', 'Housewife']\n",
      "alias: Thorn Princess\n"
     ]
    }
   ],
   "source": [
    "# Colons (:) indicate key-value\n",
    "# Commas (,) indicate separate entries\n",
    "\n",
    "yor_forger: dict = {\n",
    "    \"name\": \"Yor Forger\",\n",
    "    \"sex\": \"F\",\n",
    "    \"alive\": True,\n",
    "    \"age\": 27,\n",
    "    \"occupation\": ['City Hall Clerk', 'Assassin'],\n",
    "}\n",
    "\n",
    "# Accession\n",
    "assert len(yor_forger) == 5\n",
    "assert yor_forger[\"name\"] == \"Yor Forger\"\n",
    "assert yor_forger.get(\"age\") == 27\n",
    "\n",
    "# Invalid accession\n",
    "try:\n",
    "    yor_forger[\"height\"]\n",
    "except KeyError:\n",
    "    pass\n",
    "assert yor_forger.get(\"height\") == None\n",
    "\n",
    "# Update\n",
    "yor_forger[\"occupation\"].append(\"Housewife\")\n",
    "yor_forger[\"alias\"] = \"Thorn Princess\"\n",
    "\n",
    "# Access all via for loop\n",
    "for i in yor_forger:\n",
    "    print(f\"{i}: {yor_forger[i]}\")"
   ]
  },
  {
   "cell_type": "markdown",
   "metadata": {},
   "source": [
    "| Dict Extraction | Return | ? |\n",
    "| --- | --- | --- |\n",
    "| `list(dic.keys())` | list | All **keys** |\n",
    "| `list(dic.values())` | list | All **values**, sorted by how dict is initialised |\n",
    "| `list(dic.items())` | list[tuple] | All `(key, value)` **tuples** in a list |"
   ]
  },
  {
   "cell_type": "code",
   "execution_count": 9,
   "metadata": {},
   "outputs": [],
   "source": [
    "KEYS = list(yor_forger.keys())\n",
    "VALUES = list(yor_forger.values())\n",
    "ITEMS = list(yor_forger.items())\n",
    "\n",
    "assert KEYS == [\"name\", \"sex\", \"alive\", \"age\", \"occupation\", \"alias\"]\n",
    "assert VALUES == [\"Yor Forger\", \"F\", True, 27, ['City Hall Clerk', 'Assassin', 'Housewife'], \"Thorn Princess\"]\n",
    "\n",
    "assert ITEMS[0] == (\"name\", \"Yor Forger\")\n",
    "assert ITEMS[-1] == (\"alias\", \"Thorn Princess\")"
   ]
  }
 ],
 "metadata": {
  "kernelspec": {
   "display_name": "Python 3",
   "language": "python",
   "name": "python3"
  },
  "language_info": {
   "codemirror_mode": {
    "name": "ipython",
    "version": 3
   },
   "file_extension": ".py",
   "mimetype": "text/x-python",
   "name": "python",
   "nbconvert_exporter": "python",
   "pygments_lexer": "ipython3",
   "version": "3.10.12"
  }
 },
 "nbformat": 4,
 "nbformat_minor": 2
}
