{
 "cells": [
  {
   "cell_type": "markdown",
   "metadata": {},
   "source": [
    "# 11 - Iterable Questions\n",
    "<hr>\n",
    "\n",
    "### **Q1** - Generating email addresses\n",
    "Given a `str` name list of students, with their names separated by semicolons, generate a tuple of `str` emails ending in `@students.edu.sg`. All addresses must be lowercase, and cannot contain spaces or commas."
   ]
  },
  {
   "cell_type": "code",
   "execution_count": 1,
   "metadata": {},
   "outputs": [],
   "source": [
    "# Q1\n",
    "def gea(new_student_names):\n",
    "    students = new_student_names.split(\";\")\n",
    "    clean = lambda k: k.lower().strip().replace(' ', '_').replace(',', '')\n",
    "    return tuple(f\"{clean(i)}@students.edu.sg\" for i in students)\n",
    "\n",
    "inp = (\"Loid Forger; Yor Forger, Briar; Anya Forger\")\n",
    "exp = (\"loid_forger@students.edu.sg\", \"yor_forger_briar@students.edu.sg\", \"anya_forger@students.edu.sg\")\n",
    "\n",
    "assert gea(inp) == exp"
   ]
  },
  {
   "cell_type": "markdown",
   "metadata": {},
   "source": [
    "### **Q2** - Unique and Repeat\n",
    "Given a list of elements, return a list of two sets, the first showing which elements are **repeated at least once**, and the other set showing which elements are **unique**."
   ]
  },
  {
   "cell_type": "code",
   "execution_count": 2,
   "metadata": {},
   "outputs": [],
   "source": [
    "# Q2\n",
    "def unique_and_repeat(lst: list) -> list[set]:\n",
    "    repeats, uniques = set(), set()\n",
    "\n",
    "    # Find repeats element by element\n",
    "    # Adds to unique first, then to repeats\n",
    "    for i in lst:\n",
    "        if i in uniques:\n",
    "            repeats.add(i)\n",
    "        else:\n",
    "            uniques.add(i)\n",
    "\n",
    "    # Using difference of sets\n",
    "    return [repeats, set(lst) - repeats]\n",
    "\n",
    "\n",
    "assert unique_and_repeat([1, 2, 3, 4, 1, 2, 3, 4, 5, 6]) == [{1, 2, 3, 4}, {5, 6}]"
   ]
  },
  {
   "cell_type": "markdown",
   "metadata": {},
   "source": [
    "### **Q3** - Transpoing Matrices `[!]`\n",
    "Given a **2D matrix** made by nested lists, transpose it such that the order turns from `m×n` to `n×m`."
   ]
  },
  {
   "cell_type": "code",
   "execution_count": 3,
   "metadata": {},
   "outputs": [],
   "source": [
    "# Q3\n",
    "def transpose(matrix: list[list]) -> list[list]:\n",
    "    new: list = []\n",
    "    \n",
    "    # Access by col-then-row\n",
    "    # Then add by row-then-col\n",
    "    for col in range(len(matrix[0])):\n",
    "        new.append(\n",
    "            [row[col] for row in matrix]\n",
    "        )\n",
    "    return new\n",
    "\n",
    "\n",
    "assert transpose([[1, 2], [3, 4], [5, 6]]) == [[1, 3, 5], [2, 4, 6]]"
   ]
  },
  {
   "cell_type": "markdown",
   "metadata": {},
   "source": [
    "### **Q4** - Who Flunked it?\n",
    "Given a tuple of students, which is given by `(name, score)`, return a **tuple** of student names who scored the **minimum**."
   ]
  },
  {
   "cell_type": "code",
   "execution_count": 4,
   "metadata": {},
   "outputs": [],
   "source": [
    "# Q4\n",
    "def min_score(original: tuple[tuple]) -> tuple:\n",
    "    # This doesn't assume the upper bound of the score\n",
    "    min_score: int = original[0][1]\n",
    "    students: list = [original[0][0]]\n",
    "\n",
    "    # Traverse to find minimum and update students\n",
    "    for name, score in original[1:]:\n",
    "        if min_score > score:\n",
    "            min_score = score\n",
    "            students = [name]\n",
    "        elif min_score == score:\n",
    "            students.append(name)\n",
    "\n",
    "    return tuple(students)\n",
    "\n",
    "\n",
    "assert min_score(((\"Ali\", 80), (\"Bob\", 70), (\"Colin\", 90), (\"Davis\", 70))) == (\"Bob\", \"Davis\")"
   ]
  },
  {
   "cell_type": "markdown",
   "metadata": {},
   "source": [
    "### **Q5** - Recursive Odd-Even Sums\n",
    "Given a tuple of ints, implement a **recursive** function that traverses the tuple to return a **tuple of two sums**, the sum of **even-indexed** elements and that of **odd-indexed** elements."
   ]
  },
  {
   "cell_type": "code",
   "execution_count": 5,
   "metadata": {},
   "outputs": [],
   "source": [
    "# Q5\n",
    "def roes(tup: tuple, idx=0, odds=0, evens=0):\n",
    "    # Base case - reached end of tuple\n",
    "    if idx >= len(tup):\n",
    "        return (odds, evens)\n",
    "        \n",
    "    if idx % 2 == 0:\n",
    "        odds += tup[idx]\n",
    "    else:\n",
    "        evens += tup[idx]\n",
    "    \n",
    "    # Search next index\n",
    "    return roes(tup, idx+1, odds, evens)\n",
    "\n",
    "\n",
    "assert roes(tuple(range(1,11))) == (25, 30)"
   ]
  },
  {
   "cell_type": "markdown",
   "metadata": {},
   "source": [
    "### **Q6** - Originally Original, at least n. `[!!]`\n",
    "\n",
    "> When you return a new list out of an original list, there are times when the list in memory is modified, and sometimes is really a new list. `l1 is l2` can evaluate if two lists are not only equal by value, but also share the same memory.\n",
    "\n",
    "Implement `at_least(li: list, n: int) -> list` such that it returns the **original list** of ints that is `n` or greater.\n",
    "<br>_(Hint: Do not use `li.remove(item)` inside a for loop!)_"
   ]
  },
  {
   "cell_type": "code",
   "execution_count": 6,
   "metadata": {},
   "outputs": [],
   "source": [
    "# Q6\n",
    "# Tricky part is to retain the list itself\n",
    "\n",
    "def at_least_method_1(li: list, n: int) -> list:\n",
    "    # Replace anomalies with False\n",
    "    # Then weed out using .remove in a while loop\n",
    "    for i in range(len(li)):\n",
    "        if li[i] < n:\n",
    "            li[i] = False\n",
    "    while False in li:\n",
    "        li.remove(False)\n",
    "    return li\n",
    "\n",
    "def at_least_method_2(li: list, n: int) -> list:\n",
    "    # li[:] overrides the contents, but not the memory itself\n",
    "    li[:] = list(filter(lambda x: x >= n, li))\n",
    "    return li\n",
    "\n",
    "\n",
    "# Overriden by memory\n",
    "for function in (at_least_method_1, at_least_method_2):\n",
    "    li = list(range(1, 11))\n",
    "    assert function(li, 5) is li\n",
    "    assert li == [5, 6, 7, 8, 9, 10]"
   ]
  },
  {
   "cell_type": "markdown",
   "metadata": {},
   "source": [
    "### Q7 - Students and Subjects `[!]`\n",
    "Given a **2D list-by-list of students**, first by their names, and then by the subjects they take, return a **dictionary of subjects** by **no. of students** taking that subject."
   ]
  },
  {
   "cell_type": "code",
   "execution_count": 7,
   "metadata": {},
   "outputs": [],
   "source": [
    "# Q7\n",
    "\n",
    "students_data = [\n",
    "    [\"John\", \"Math\", \"English\", \"Science\"],\n",
    "    [\"Jane\", \"Chinese\", \"Math\", \"History\"],\n",
    "    [\"Alex\", \"English\", \"Chinese\", \"Math\"],\n",
    "    [\"Eva\", \"Science\", \"Chinese\", \"History\"],\n",
    "    [\"Michael\", \"Math\", \"Science\", \"History\"],\n",
    "    [\"Sophia\", \"English\", \"Science\", \"Math\"],\n",
    "]\n",
    "expected = {'Math': 5, 'English': 3, 'Science': 4, 'Chinese': 3, 'History': 3}\n",
    "\n",
    "def student_subject(students: list) -> dict:\n",
    "    # Use sum comprehension\n",
    "    # Flattens all subjects as a 1D list\n",
    "    flattened: list = sum([i[1:] for i in students], [])\n",
    "    dic = {}\n",
    "\n",
    "    # If subject exists, += 1, else default to 1\n",
    "    for i in flattened:\n",
    "        dic[i] = dic.get(i, 0) + 1\n",
    "\n",
    "    return dic\n",
    "\n",
    "assert student_subject(students_data) == expected"
   ]
  },
  {
   "cell_type": "markdown",
   "metadata": {},
   "source": [
    "### Q8 - Only the Right is Right! `[!]`\n",
    "\n",
    "We represent a triangle, perhaps by a **list of 3 vertices** in the form of `[x, y]` of Cartesian coordinates. A typical triangle may look like `[[x1, y1], [x2, y2], [x3, y3]]`\n",
    "\n",
    "In this question, you are given a list of triangles. Hence, using Pythagorean theorem $a^2+b^2=c^2$ and distance formula $\\sqrt{(\\Delta x)^2+(\\Delta y)^2}$, return the filtered list of **only right triangles**."
   ]
  },
  {
   "cell_type": "code",
   "execution_count": 8,
   "metadata": {},
   "outputs": [],
   "source": [
    "# Q8\n",
    "def dist(cA: list, cB: list):\n",
    "    \"\"\"Evaluates distance squared between A[x, y] and B[x, y]\"\"\"\n",
    "    return abs((cA[0] - cB[0])**2 + (cA[1] - cB[1])**2)\n",
    "\n",
    "def is_right(tri: list) -> bool:\n",
    "    \"\"\"Given a triangle, evaluate if it is a right triangle\"\"\"\n",
    "    td = sorted([\n",
    "        dist(tri[0], tri[1]),\n",
    "        dist(tri[1], tri[2]),\n",
    "        dist(tri[2], tri[0])\n",
    "    ])\n",
    "    return td[0] + td[1] == td[2]\n",
    "\n",
    "def only_right_tri(triangles: list) -> list:\n",
    "    \"\"\"Filters a list to only right triangles\"\"\"\n",
    "    return list(filter(is_right, triangles))\n",
    "\n",
    "\n",
    "tri_lst = [[[0, 0], [3, 0], [3, 4]], [[0, 0], [6, 0], [7, 1]], [[1, 1], [2, 1], [2, 2]]]\n",
    "expected = [[[0, 0], [3, 0], [3, 4]], [[1, 1], [2, 1], [2, 2]]]\n",
    "assert only_right_tri(tri_lst) == expected"
   ]
  }
 ],
 "metadata": {
  "kernelspec": {
   "display_name": "Python 3",
   "language": "python",
   "name": "python3"
  },
  "language_info": {
   "codemirror_mode": {
    "name": "ipython",
    "version": 3
   },
   "file_extension": ".py",
   "mimetype": "text/x-python",
   "name": "python",
   "nbconvert_exporter": "python",
   "pygments_lexer": "ipython3",
   "version": "3.10.12"
  }
 },
 "nbformat": 4,
 "nbformat_minor": 2
}
