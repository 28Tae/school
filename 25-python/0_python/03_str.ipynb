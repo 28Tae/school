{
 "cells": [
  {
   "cell_type": "markdown",
   "metadata": {},
   "source": [
    "# 03 - Strings & Formatting\n",
    "---\n",
    "<sup>[Return Home](../README.md)</sup>\n",
    "\n",
    "## `3.1` - Strings\n",
    "Strings is a text surrounded by either single quotation marks `'`, or double quotation marks `\"`.<br>\n",
    "Triple marks allow multiline strings.\n",
    "\n",
    "| Function/Method | Return | ? |\n",
    "| --- | --- | --- |\n",
    "| **`len(s)`** | int | No. of characters in str |\n",
    "| `s1 in s2` | bool | If a character or a substring is in str _s2_ |\n",
    "| `for c in s: ...` | - | A for loop of every character in the s |\n",
    "| `a[idx]` | char | Like a list, access char of index _idx_ |\n",
    "| `s[start:stop:step]` | str | **Splices** a str like a for loop |\n",
    "| **`s.strip(char=\" \")`** | str | **Strips** starting & ending leading characters, defaults to whitespace |\n",
    "| `s.lstrip(char=\" \")` | str | Strips only starting chars |\n",
    "| `s.rstrip(char=\" \")` | str | Strips only ending chars |\n",
    "| **`s1.index(s2)`** | int/ValueError | Returns index of 1^{st} occurrence of _s2_ in master. Else raises ValueError |\n",
    "| `s1.count(s2)` | int | No. of occurrences of _s2_ in the master str |\n",
    "| **`s.join(iter)`** | str | Conjoins all elements in _iter_ as a str, with _s_ as a separator |\n",
    "| `\"\".join(iter)` | str | Effectively converts list to continuous str |\n",
    "| **`s.replace(old_char, new_char)`** | str | Replaces all occurrences of old char to new char |\n",
    "\n",
    "**Casing methods** returns a new `str` as a modification\n",
    "\n",
    "| Casing Methods | ? |\n",
    "| --- | --- |\n",
    "| `s.capitalize()` | First character is now uppercase |\n",
    "| `s.title()` | First character of each word is now uppercase |\n",
    "| `s.upper()` | Uppercase |\n",
    "| `s.lower()` | Lowercase |\n",
    "| `s.swapcase()` | Swaps the casing per char |\n",
    "\n",
    "**Check str methods** returns `bool` if the check succeeds\n",
    "| Check Methods | ? |\n",
    "| --- | --- |\n",
    "| `s.isdecimal()` | Contains decimal base digits (0-9) |\n",
    "| `s1.startswith(s2)` | If master str _s1_ starts with _s2_ |\n",
    "| `s1.endswith(s2)` | See above, buts endwith |"
   ]
  },
  {
   "cell_type": "markdown",
   "metadata": {},
   "source": [
    "## `3.2` - f-string & `.format()`\n",
    "\n",
    "```python\n",
    "f\"{aa} {bb} {cc} {bb} {special}\"\n",
    "# is equal to\n",
    "\"{0} {1} {2} {1} {k}\".format(aa, bb, cc, k=special)\n",
    "```"
   ]
  },
  {
   "cell_type": "markdown",
   "metadata": {},
   "source": [
    "### **3.2.1. Padding/Spacing**\n",
    "To achieve padding (left/centre/right alignment), follow\n",
    "```py\n",
    "{[index/variable]:[pad-char][aligner <^>][total chars]}\n",
    "```"
   ]
  },
  {
   "cell_type": "code",
   "execution_count": 1,
   "metadata": {},
   "outputs": [
    {
     "name": "stdout",
     "output_type": "stream",
     "text": [
      "|lol      |\n",
      "|   lol   |\n",
      "|      lol|\n",
      "|***lol***|\n"
     ]
    }
   ],
   "source": [
    "s = \"lol\"\n",
    "print(f\"|{s:<9}|\")\n",
    "print(f\"|{s:^9}|\")\n",
    "print(f\"|{s:>9}|\")\n",
    "print(f\"|{s:*^9}|\")"
   ]
  },
  {
   "cell_type": "markdown",
   "metadata": {},
   "source": [
    "### **3.2.2. Integer/Float**\n",
    "Given integer `d`, float `f` and percent `%` formatting, with optional comma `,` separation follows in f-string or format\n",
    "```py\n",
    "{[idx/var]:[leading-char][,][total chars][. decimal places]d/f/%}\n",
    "```"
   ]
  },
  {
   "cell_type": "code",
   "execution_count": 2,
   "metadata": {},
   "outputs": [
    {
     "name": "stdout",
     "output_type": "stream",
     "text": [
      "  69\n",
      "0069\n",
      " 3.142\n",
      "00003.142\n",
      "      314.16%\n",
      "0,000,314.16%\n"
     ]
    }
   ],
   "source": [
    "from math import pi\n",
    "print(\"{:4d}\".format(69))      #   69\n",
    "print(\"{:04d}\".format(69))     # 0069\n",
    "print(\"{:6.3f}\".format(pi))    #  3.142\n",
    "print(\"{:09.3f}\".format(pi))   # 00003.142\n",
    "print(\"{:13,.2%}\".format(pi))  #       314.16%\n",
    "print(\"{:013,.2%}\".format(pi)) # 0,000,314.16%"
   ]
  }
 ],
 "metadata": {
  "kernelspec": {
   "display_name": "Python 3",
   "language": "python",
   "name": "python3"
  },
  "language_info": {
   "codemirror_mode": {
    "name": "ipython",
    "version": 3
   },
   "file_extension": ".py",
   "mimetype": "text/x-python",
   "name": "python",
   "nbconvert_exporter": "python",
   "pygments_lexer": "ipython3",
   "version": "3.10.12"
  }
 },
 "nbformat": 4,
 "nbformat_minor": 2
}
