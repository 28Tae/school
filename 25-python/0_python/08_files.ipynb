{
 "cells": [
  {
   "cell_type": "markdown",
   "metadata": {},
   "source": [
    "# 08 - File Operations\n",
    "---\n",
    "<sup>[Return Home](../README.md)</sup>\n",
    "\n",
    "## `8.1` File Opening\n",
    "\n",
    "Opening a file requires **`open(file_path, mode)`**.\n",
    "- If a `file.txt` is in the _same folder_ as the Jupyter Notebook, the _relative_ path is simply `file.txt`.\n",
    "- If in the folder is the Jupyter Notebook and _another folder_ `black` that contains `file.txt`, the path is then `black/file.txt`. You can have as many folders need be in the path\n",
    "\n",
    "To approach this there are 2 methods to **safely access** & do whatever needs to be:\n",
    "\n",
    "```python\n",
    "# Method 1 - Opening and Closing\n",
    "f = file.open(\"folder_1/file_1.txt\", \"r\")\n",
    "...\n",
    "f.close()\n",
    "\n",
    "# Method 2 - A file instance\n",
    "with file.open(\"folder_2/file_2.txt\", \"w\") as f:\n",
    "    ...\n",
    "\n",
    "```\n",
    "\n",
    "| File Mode | ?? | Related Functions |\n",
    "| --- | --- | --- |\n",
    "| **`r`** | **Read** from start of file | `f.read()`, `f.readline()` |\n",
    "| **`w`** | **Write**  a new file (which **overrides** that file if it exists) | `f.write()` |\n",
    "| **`a`** | **Appends** new content to the back **without** overriding | `f.write()` |\n",
    "| `r+` | Read & write. Once written, will overwrite. | - |\n",
    "| `a+` | Read & append. Will not overwrite. | - |\n"
   ]
  },
  {
   "cell_type": "markdown",
   "metadata": {},
   "source": [
    "## `8.2` - Reading and Processing\n",
    "\n",
    "As long as the file contains newlines (\"\\\\n\"), these pestering things will appear everyone in your data.\n",
    "| Reading type | ?? |\n",
    "| --- | --- |\n",
    "| `s = f.read()` | Dumps the entire file as a **str** (with all those newlines).<br>Generally **NOT recommended**|\n",
    "| `for line in f:` | Personal favourite |\n",
    "| `line = f.readline()` | When called, returns the next line as a str |"
   ]
  },
  {
   "cell_type": "code",
   "execution_count": null,
   "metadata": {},
   "outputs": [],
   "source": [
    "def READING_A_FILE():\n",
    "\n",
    "    # METHOD 1 - f.read()\n",
    "    with open(\"1_to_5.txt\", \"r\") as f:\n",
    "        content = f.read()       # \"1\\n\\2\\n3\\n4\\n5\\n\"\n",
    "    \n",
    "    datas = content.split(\"\\n\")\n",
    "    # ['1', '2', '3', '4', '5']\n",
    "\n",
    "\n",
    "    # METHOD 2 - for line in f\n",
    "    with open(\"1_to_5.txt\", \"r\") as f:\n",
    "        datas = []\n",
    "        for line in f:\n",
    "            # line.strip() strips off any \"\\n\" and \" \"\n",
    "            datas.append(line.strip())\n",
    "    # ['1', '2', '3', '4', '5']\n",
    "\n",
    "\n",
    "    # METHOD 3 - f.readline()\n",
    "    # Continues to read a line until EOF\n",
    "    with open(\"1_to_5.txt\", \"r\") as f:\n",
    "        datas = []\n",
    "        line = f.readline()\n",
    "        while line:\n",
    "            datas.append(line.strip())\n",
    "            line = f.readline()\n",
    "    \n",
    "    # ['1', '2', '3', '4', '5']"
   ]
  },
  {
   "cell_type": "markdown",
   "metadata": {},
   "source": [
    "Then each line can be processed this way\n",
    "| Function | ?? |\n",
    "| -- | -- |\n",
    "| `s = s.strip()` | **Cleans up** any leading and trailing **whitespaces**, incl. newlines `\\n` and spaces  ` ` |\n",
    "| `s = s.strip(XX)` | Cleans up leading & trailing `\"XX\"` from string, if any |\n",
    "| `lst = s.split(XX)` | Returns a **list** of strs **separated** by XX.<br>Default separator is spaces |\n",
    "| `\",\".join(lst)` | Conjoins a **list of strs** into a str separated by `,` here.<br>Of course the separator can be `\"\"`, which effectively converts list to str.|"
   ]
  },
  {
   "cell_type": "code",
   "execution_count": 2,
   "metadata": {},
   "outputs": [
    {
     "name": "stdout",
     "output_type": "stream",
     "text": [
      "x yz\n",
      "['1', '2', '3', '4', '5']\n",
      "['1', '2', '3', '4', '5', '']\n"
     ]
    }
   ],
   "source": [
    "# Demonstrating strip and split\n",
    "\n",
    "strip = \"    \\n   x yz \\n \\n \".strip()\n",
    "split_A = \"1 2 3 4 5\".split()\n",
    "split_B = \"1,2,3,4,5,\".split(\",\")\n",
    "\n",
    "print(strip)        # \"x yz\"\n",
    "print(split_A)      # ['1', '2', '3', '4', '5']\n",
    "print(split_B)      # ['1', '2', '3', '4', '5', '']"
   ]
  },
  {
   "cell_type": "markdown",
   "metadata": {},
   "source": [
    "Of course, no one is stopping you from _pre-processing_ data before reading (like I do). <br> You can write processed data by doing `f.write(line)` granted you are on write/append mode.\n",
    "<hr>\n",
    "\n",
    "### Application on Reading, Processing and Writing\n",
    "\n",
    "Given a \"messy.csv\" file that resembles a table of data, with headers & data as follows,\n",
    "1. Print the list of data\n",
    "2. **Clean up** the file by writing a new file at \"cleaned.csv\".\n",
    "\n",
    "```py\n",
    " Name     , Class, Score\n",
    "Xiao Ming,   20J13,89\n",
    "Xiao Hong  , 20J13,76\n",
    "Xiao Qiang, 20J12, 56\n",
    "```"
   ]
  },
  {
   "cell_type": "code",
   "execution_count": null,
   "metadata": {},
   "outputs": [],
   "source": [
    "def FULL():\n",
    "    with open(\"messy.csv\", \"r\") as f:\n",
    "        datas = []\n",
    "        line = f.readline()\n",
    "        while line:\n",
    "            # This strip() doesn't remove inner spaces within commas\n",
    "            datas.append(line.strip())\n",
    "            line = f.readline()\n",
    "\n",
    "    PROCESSED = []\n",
    "    for data in datas:\n",
    "        # Splitting by \",\"\n",
    "        lst = []\n",
    "        for item in data.split(\",\"):\n",
    "            lst.append(item.strip())\n",
    "        PROCESSED.append(lst)\n",
    "    \n",
    "    # Task 1 - return the list of data\n",
    "    print(PROCESSED[1:])\n",
    "    # [['Xiao Ming', '20J13', '89'], ['Xiao Hong', '20J13', '76'], ['Xiao Qiang', '20J12', '56']]\n",
    "\n",
    "    # Task 2 - write to a new file\n",
    "    with open(\"cleaned.csv\", \"w\") as f:\n",
    "        for data in PROCESSED:\n",
    "            f.write(\",\".join(data) + \"\\n\")\n",
    "\n",
    "\n",
    "# Not recommended but sure\n",
    "def FULL_not_recommended():\n",
    "    s = lambda i: i.strip()\n",
    "    with open(\"messy.csv\", \"r\") as f:\n",
    "        datas = [\n",
    "            [s(i) for i in s(line).split(\",\")]\n",
    "            for line in f\n",
    "        ]\n",
    "    with open(\"cleaned.csv\", \"w\") as f:\n",
    "        [f.write(\",\".join(d) + \"\\n\") for d in datas]\n",
    "\n",
    "\n",
    "# Esoteric enough for you to not even try this.\n",
    "def FULL_esoteric():\n",
    "    with open(\"messy.csv\") as f:\n",
    "        with open(\"cleaned.csv\", \"w\") as o:\n",
    "            [o.write(\",\".join([i.strip() for i in line.strip().split(\",\")]) + \"\\n\") for line in f]"
   ]
  }
 ],
 "metadata": {
  "kernelspec": {
   "display_name": "Python 3",
   "language": "python",
   "name": "python3"
  },
  "language_info": {
   "codemirror_mode": {
    "name": "ipython",
    "version": 3
   },
   "file_extension": ".py",
   "mimetype": "text/x-python",
   "name": "python",
   "nbconvert_exporter": "python",
   "pygments_lexer": "ipython3",
   "version": "3.10.12"
  }
 },
 "nbformat": 4,
 "nbformat_minor": 2
}
