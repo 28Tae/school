{
 "cells": [
  {
   "cell_type": "markdown",
   "metadata": {},
   "source": [
    "# P03-4-5 Optional\n",
    "---\n",
    "### Q1 - Stuck in Middle [P03]\n",
    "Given `old_str`, try to insert the extra string `extra_str` in the middle of the original string. Use string slice operation `[start:stop:step]`."
   ]
  },
  {
   "cell_type": "code",
   "execution_count": 4,
   "metadata": {},
   "outputs": [],
   "source": [
    "# Q1\n",
    "old_str = \"psychical\"\n",
    "extra_str = \"holog\"\n",
    "\n",
    "# Code here\n",
    "mid_idx = len(old_str) // 2\n",
    "result = old_str[:mid_idx] + extra_str + old_str[mid_idx+1:]\n",
    "\n",
    "assert result == \"psychological\""
   ]
  },
  {
   "cell_type": "markdown",
   "metadata": {},
   "source": [
    "### Q2 - Bonuses [P04]\n",
    "A company has set up a financial scheme to motivate its workers by paying a bonus for each day claimed. This quarterly scheme is calculated with a threshold target of 32 days per quarter, and the incentive payment for each billable day in excess of such threshold target is shown as follows: \n",
    "- 0 to 32 days    $0\n",
    "- 33 to 40 days   $325 per Billable Day\n",
    "- 41 to 48 days   $550 per Billable Day\n",
    "- \\>48 days        $600 per Billable Day\n",
    "\n",
    "Write a function `bonus(days)` to read the number of billable days and return the amount of bonus in that quarter. Note the calculation of bonus is progressive.\n",
    "\n",
    "| Given | Expected |\n",
    "| --- | --- |\n",
    "| 45 days | $5,350, since 32\\*0 + 8\\*325 + 5\\*550 = 5350 |"
   ]
  },
  {
   "cell_type": "code",
   "execution_count": 6,
   "metadata": {},
   "outputs": [],
   "source": [
    "# Q2\n",
    "def bonus(days: int) -> int:\n",
    "    if days > 48:\n",
    "        total = (8 * 325) + (8 * 550) + ((days - 48) * 600)\n",
    "    elif days > 40:\n",
    "        total = (8 * 325) + ((days - 40) * 550)\n",
    "    elif days > 32:\n",
    "        total = (days - 32) * 325\n",
    "    else:\n",
    "        total = 0\n",
    "    return total\n",
    "\n",
    "\n",
    "assert bonus(15) == 0\n",
    "assert bonus(37) == 1625\n",
    "assert bonus(50) == 8200"
   ]
  },
  {
   "cell_type": "markdown",
   "metadata": {},
   "source": [
    "### Q3 - Triangulation [P04]\n",
    "In `triangle(a, b, c)` with 3 positive integers denoting the sides of a triangle, deterimen its type.\n",
    "\n",
    "| Type | Description |\n",
    "| --- | --- |\n",
    "| Not triangle | Length of one side ≥ Sum of other two sides |\n",
    "| Equilateral | All sides same |\n",
    "| Isosceles | 2 sides same, not equilateral |\n",
    "| Scalene | No sides same |"
   ]
  },
  {
   "cell_type": "code",
   "execution_count": 7,
   "metadata": {},
   "outputs": [],
   "source": [
    "# Q3\n",
    "def triangle(a: int, b: int, c: int) -> str:\n",
    "    # Fill in your code here\n",
    "    max_side = max(a, b, c) \n",
    "    two_other = sum((a, b, c)) - max_side\n",
    "    if max_side >= two_other:\n",
    "        return \"Not triangle\"\n",
    "    elif a == b == c:\n",
    "        return \"Equilateral\"\n",
    "    elif a == b or a == c or b == c:\n",
    "        return \"Isosceles\"\n",
    "    else:\n",
    "        return \"Scalene\"\n",
    "\n",
    "\n",
    "assert triangle(999, 3, 4) == 'Not triangle'\n",
    "assert triangle(7, 7, 7) == 'Equilateral'\n",
    "assert triangle(5, 3, 3) == 'Isosceles'\n",
    "assert triangle(3, 4, 5) == 'Scalene'"
   ]
  },
  {
   "cell_type": "markdown",
   "metadata": {},
   "source": [
    "### Q4 - Negative Odd Positive Even!? NOPE!? [P04]\n",
    "Write a function `nope(i)`, which accepts int `i` and outputs an int, by:\n",
    "\n",
    "| Given `i` to be... | Then return... |\n",
    "| --- | ---|\n",
    "| Zero | Zero |\n",
    "| Positive & Odd | Next larger odd number |\n",
    "| Positive & Even | Next smaller even number |\n",
    "| Negative & Odd | Next smaller odd number |\n",
    "| Negative & Even | Next larger even number |"
   ]
  },
  {
   "cell_type": "code",
   "execution_count": 10,
   "metadata": {},
   "outputs": [],
   "source": [
    "# Q4\n",
    "def nope(i: int) -> int:    \n",
    "    # Consider x + 2 if positive-odd or negative-even,\n",
    "    # Whereas x - 2 if positive-even or negative-odd\n",
    "    # Use XOR for EXCLUSIVELY either [positive] or [odd] for (x - 2)\n",
    "\n",
    "    xor = (int(i % 2 == 0) + int(i < 0) == 1) \n",
    "    if i == 0:\n",
    "        return 0\n",
    "    elif xor:\n",
    "        return (i - 2)\n",
    "    else:\n",
    "        return (i + 2)\n",
    "\n",
    "\n",
    "for case, expected in zip(\n",
    "    [0, -1, -2, -3, 1, 2, 3, 8, 876],\n",
    "    [0, -3, 0, -5, 3, 0, 5, 6, 874]\n",
    "):\n",
    "    assert nope(case) == expected"
   ]
  },
  {
   "cell_type": "markdown",
   "metadata": {},
   "source": [
    "### Q5 - Inflect [P04]\n",
    "Write `inflect(i)`, given int `i` to be bounded 20-59 (inclusive), and write in English.\n",
    "\n",
    "| Given | Expected |\n",
    "| --- | ---|\n",
    "| 20 | twenty |\n",
    "| 34 | thirty-four |"
   ]
  },
  {
   "cell_type": "code",
   "execution_count": 15,
   "metadata": {},
   "outputs": [],
   "source": [
    "# Q5\n",
    "def inflect(x: int) -> str:\n",
    "    # Inflects 20-59 into englsih\n",
    "    tens_li = ['twenty', 'thirty', 'forty', 'fifty']\n",
    "    ones_li = ['one', 'two', 'three', 'four', 'five', 'six', 'seven', 'eight', 'nine']\n",
    "    # Floor div to tens list\n",
    "    # Modulo to tag in ones\n",
    "    eng_str = tens_li[x//10 - 2]\n",
    "    if x % 10 != 0:\n",
    "        eng_str += f\"-{ones_li[x%10 - 1]}\"\n",
    "    return eng_str\n",
    "\n",
    "\n",
    "assert inflect(int(42.0)) != 'WEED'\n",
    "assert inflect(20) == 'twenty'\n",
    "assert inflect(59) == 'fifty-nine'"
   ]
  },
  {
   "cell_type": "markdown",
   "metadata": {},
   "source": [
    "### Q6 - Reuse [P05]\n",
    "Implement the following 3 functions as follows:\n",
    "- `is_even(x)` returns True if int x is even, else False.\n",
    "- `is_positive(x)` returns True if int x is positive, else False. \n",
    "- `is_odd_and_positive(x)` returns True if int x is odd AND positive, else False."
   ]
  },
  {
   "cell_type": "code",
   "execution_count": 17,
   "metadata": {},
   "outputs": [],
   "source": [
    "# Q6\n",
    "def is_even(x: int) -> bool:\n",
    "    return x % 2 == 0\n",
    "    \n",
    "def is_positive(x: int) -> bool:\n",
    "    return x > 0\n",
    "    \n",
    "def is_odd_and_positive(x: int) -> bool:\n",
    "    return is_positive(x) and not is_even(x)\n",
    "\n",
    "\n",
    "assert is_even(1) == False\n",
    "assert is_even(2) == True\n",
    "assert is_positive(5) == True\n",
    "assert is_positive(0) == False\n",
    "assert is_odd_and_positive(99) == True\n",
    "assert is_odd_and_positive(-7) == False\n",
    "assert is_odd_and_positive(50) == False"
   ]
  }
 ],
 "metadata": {
  "kernelspec": {
   "display_name": "Python 3",
   "language": "python",
   "name": "python3"
  },
  "language_info": {
   "codemirror_mode": {
    "name": "ipython",
    "version": 3
   },
   "file_extension": ".py",
   "mimetype": "text/x-python",
   "name": "python",
   "nbconvert_exporter": "python",
   "pygments_lexer": "ipython3",
   "version": "3.10.12"
  }
 },
 "nbformat": 4,
 "nbformat_minor": 2
}
