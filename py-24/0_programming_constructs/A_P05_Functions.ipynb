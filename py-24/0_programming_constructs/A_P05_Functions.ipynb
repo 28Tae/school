{
 "cells": [
  {
   "cell_type": "markdown",
   "metadata": {},
   "source": [
    "# P05 Assignment - Functions\n",
    "---\n",
    "### Q1 - 2-point Distance\n",
    "Define a function `distance(x1, x2, y1, y2)` that returns the distance of coordinates of 2 points on the same plane."
   ]
  },
  {
   "cell_type": "code",
   "execution_count": 1,
   "metadata": {},
   "outputs": [],
   "source": [
    "# Q1\n",
    "import math\n",
    "\n",
    "def distance(x1: int, y1: int, x2: int, y2: int) -> float:\n",
    "    return math.sqrt((x1 - x2)**2 + (y1 - y2)**2)\n",
    "\n",
    "\n",
    "assert distance(2, 2, 5, 6) == 5.0"
   ]
  },
  {
   "cell_type": "markdown",
   "metadata": {},
   "source": [
    "### Q2 - Max-of-3\n",
    "Given three integers, find the maximum through a `max_of_three(x, y, z)` function."
   ]
  },
  {
   "cell_type": "code",
   "execution_count": 2,
   "metadata": {},
   "outputs": [],
   "source": [
    "# Q2\n",
    "def max_of_three(x: int, y: int, z: int) -> float:\n",
    "    return max(x, y, z)\n",
    "\n",
    "\n",
    "assert max_of_three(2, 5, 1) == 5.0\n",
    "assert max_of_three(100, -5, 10) == 100.0"
   ]
  },
  {
   "cell_type": "markdown",
   "metadata": {},
   "source": [
    "### Q3 - 2 Bigger Squares\n",
    "In `bigger_sum(a, b, c)`, given three integers, return the sum of the squares of the 2 larger integers.\n",
    "\n",
    "| Given | Expected |\n",
    "| --- | ---|\n",
    "| (1, 2, 3) | 13, since 2<sup>2</sup> + 3<sup>2</sup> = 13|"
   ]
  },
  {
   "cell_type": "code",
   "execution_count": 4,
   "metadata": {},
   "outputs": [],
   "source": [
    "# Q3\n",
    "def bigger_sum(a: int, b: int, c: int) -> int:\n",
    "    # Sort a, b, c, then take last 2 indexes\n",
    "    sort_li = sorted([a, b, c])\n",
    "    return (sort_li[1] ** 2) + (sort_li[2] ** 2)\n",
    "\n",
    "\n",
    "assert bigger_sum(1, 2, 3) == 13\n",
    "assert bigger_sum(3, 1, 2) == 13\n",
    "assert bigger_sum(-1, -2, -99) == 5\n",
    "assert round(bigger_sum(5.1, 5.123, 5.12), 4) == 52.4595"
   ]
  }
 ],
 "metadata": {
  "kernelspec": {
   "display_name": "Python 3",
   "language": "python",
   "name": "python3"
  },
  "language_info": {
   "codemirror_mode": {
    "name": "ipython",
    "version": 3
   },
   "file_extension": ".py",
   "mimetype": "text/x-python",
   "name": "python",
   "nbconvert_exporter": "python",
   "pygments_lexer": "ipython3",
   "version": "3.10.12"
  }
 },
 "nbformat": 4,
 "nbformat_minor": 2
}
