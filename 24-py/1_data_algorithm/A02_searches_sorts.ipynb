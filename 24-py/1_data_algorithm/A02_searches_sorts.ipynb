{
 "cells": [
  {
   "cell_type": "markdown",
   "metadata": {},
   "source": [
    "# A02 - Searchin & Sortin `[!]`\n",
    "---\n",
    "TBC"
   ]
  }
 ],
 "metadata": {
  "language_info": {
   "name": "python"
  }
 },
 "nbformat": 4,
 "nbformat_minor": 2
}
