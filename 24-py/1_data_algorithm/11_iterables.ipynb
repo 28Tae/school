{
 "cells": [
  {
   "cell_type": "markdown",
   "metadata": {},
   "source": [
    "# 1.1 - Lists, Tuples, Sets, Dicts\n",
    "---\n",
    "TBA"
   ]
  }
 ],
 "metadata": {
  "language_info": {
   "name": "python"
  }
 },
 "nbformat": 4,
 "nbformat_minor": 2
}
