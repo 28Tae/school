{
 "cells": [
  {
   "cell_type": "markdown",
   "metadata": {},
   "source": [
    "# 05c - Advanced Functions\n",
    "---\n",
    "\n",
    "## Additional Arguments\n",
    "- You can make arguments optional when calling a function, by assigning a default.\n",
    "- `*args` can pass any **number of additional** but optional arguments. However the order generally matters.\n",
    "- `**kwargs` uses a `dict`-styled **key by value** argument. Passed-in arguments no need to be ordered, but are assigned a variable (i.e. the key)."
   ]
  },
  {
   "cell_type": "code",
   "execution_count": 1,
   "metadata": {},
   "outputs": [
    {
     "name": "stdout",
     "output_type": "stream",
     "text": [
      "I got it. And this is default!\n",
      "I got it. And now i plugged something!\n",
      "In your inventory is mac & cheese. In your junk: \n",
      "In your inventory is mac & cheese. In your junk: hotdog, apple, orange, \n",
      "mewing_streak: 888\n",
      "hp: 0\n",
      "mana: 100\n",
      "aura: 999\n",
      "ARE YOU A BETA???\n"
     ]
    }
   ],
   "source": [
    "# Default arguments\n",
    "# Note that default args come AFTER non-defaults\n",
    "def defaulted(i: str, j: str = \"this is default\") -> None:\n",
    "    print(f\"I got {i}. And {j}!\")\n",
    "\n",
    "\n",
    "defaulted(\"it\")\n",
    "defaulted(\"it\", \"now i plugged something\")\n",
    "\n",
    "\n",
    "# *Args\n",
    "def args(i, j, *args) -> None:\n",
    "    print(f\"In your inventory is {i} & {j}. In your junk: \", end=\"\")\n",
    "    for item in args:\n",
    "        print(item, end=\", \")\n",
    "    print()\n",
    "\n",
    "\n",
    "args(\"mac\", \"cheese\")\n",
    "args(\"mac\", \"cheese\", \"hotdog\", \"apple\", \"orange\")\n",
    "\n",
    "\n",
    "# *Kwargs\n",
    "# Consider learning dict() first\n",
    "def kwargs(**kwargs) -> None:\n",
    "    for key in kwargs:\n",
    "        print(key, kwargs[key], sep=\": \")\n",
    "        if key == \"aura\":\n",
    "            print(\"ARE YOU A BETA???\")\n",
    "\n",
    "kwargs(mewing_streak=888)\n",
    "kwargs(hp=0, mana=100, aura=999)"
   ]
  },
  {
   "cell_type": "markdown",
   "metadata": {},
   "source": [
    "## Lambda $\\lambda$ functions\n",
    "`lambda` is a single-line anonymous function, accepting **any** number of inputs, but only returns **one expression**. \\\n",
    "`function = lambda i1, i2, i3: some_output`\n",
    "\n",
    "```python\n",
    "def find_c(a, b):\n",
    "    return (a ** 2 + b ** 2) ** 0.5\n",
    "\n",
    "# is same as...\n",
    "\n",
    "find_c = lambda a, b: (a**2 + b**2) ** 0.5\n",
    "```\n",
    "\n",
    "Other than conciseness & simplicity, `lambda()` is applied to functional programming..."
   ]
  },
  {
   "cell_type": "markdown",
   "metadata": {},
   "source": [
    "## Functional Programming - `map()`, `filter()`, `reduce()`\n",
    "\n",
    "_Note that `reduce()` must be imported from `functools`._\n",
    "| Function | Description |\n",
    "| --- | --- |\n",
    "| `list(map(func, iter))` | **Imposes a function** that changes every element in the list |\n",
    "| `list(filter(func, iter))` | Returns a new list with **only** elements that **passes `True`** in the function |\n",
    "| `reduce(func, iter)` | A function that applies to **two adjacent** elements, which is imposed on **all** elements, forming one **single result** (could be int/str) |"
   ]
  },
  {
   "cell_type": "code",
   "execution_count": 2,
   "metadata": {},
   "outputs": [],
   "source": [
    "NUMS = [2, 6, 1, 3, 5]\n",
    "\n",
    "\"MAP() for doubling every number\"\n",
    "\n",
    "# Method A\n",
    "def double(x):\n",
    "    return x * 2\n",
    "\n",
    "assert list(map(double, NUMS)) == [4, 12, 2, 6, 10]\n",
    "\n",
    "# Method B - lambda is just better.\n",
    "assert list(map(lambda x: x * 2, NUMS)) == [4, 12, 2, 6, 10]\n",
    "\n",
    "\n",
    "\"FILTER() for even nums only\"\n",
    "\n",
    "assert list(filter(lambda x: x % 2 == 0, NUMS)) == [2, 6]\n",
    "\n",
    "\n",
    "\"REDUCE() to get sum\"\n",
    "from functools import reduce\n",
    "\n",
    "assert reduce(lambda i, j: i + j, NUMS) == 17"
   ]
  },
  {
   "cell_type": "markdown",
   "metadata": {},
   "source": [
    "---\n",
    "\n",
    "### **Q1** - Prime Number Finder\n",
    "Using functional programming, create the following:\n",
    "- `is_prime(i: int)` returns a `Bool` whether `i` is prime\n",
    "- `filter_primes(lst: list)` returns only primes from a list of integers"
   ]
  },
  {
   "cell_type": "code",
   "execution_count": 3,
   "metadata": {},
   "outputs": [],
   "source": [
    "# Q1\n",
    "# This is probably worth memorising\n",
    "def is_prime(num: int, div: int=None) -> bool:\n",
    "    \"\"\"Uses recursion to check a prime. First call to be optional.\"\"\"\n",
    "\n",
    "    if div is None:\n",
    "        div = int(num ** 0.5 + 1)\n",
    "    if num in (0, 1, 2):\n",
    "        return num == 2\n",
    "    elif div <= 1:\n",
    "        return True\n",
    "    \n",
    "    # Divisible, so not prime\n",
    "    elif num % div == 0:\n",
    "        return False\n",
    "    \n",
    "    return is_prime(num, div - 1)\n",
    "    \n",
    "\n",
    "def filter_primes(lst: list) -> list:\n",
    "    # Imposes a filter on each list\n",
    "    return list(filter(lambda i: is_prime(i), lst))\n",
    "\n",
    "\n",
    "assert filter_primes(list(range(21))) == [2, 3, 5, 7, 11, 13, 17, 19]"
   ]
  },
  {
   "cell_type": "markdown",
   "metadata": {},
   "source": [
    "### **Q2** - Sum of Squares\n",
    "Using both `map()` and `reduce()`, return the sum of the squares of an integer list `lst`."
   ]
  },
  {
   "cell_type": "code",
   "execution_count": 4,
   "metadata": {},
   "outputs": [],
   "source": [
    "from functools import reduce\n",
    "\n",
    "def sos(lst: list) -> int:\n",
    "    # reduce() CANNOT accept empty lists, so must account\n",
    "    if len(lst) == 0:\n",
    "        return 0\n",
    "    \n",
    "    squared = list(map(lambda i: i ** 2, lst))\n",
    "    return reduce(lambda i, j: i + j, squared)\n",
    "\n",
    "\n",
    "assert sos([1, 2, 3, 4, 5]) == 55\n",
    "assert sos([-2, 1, 0, -1, 2]) == 10"
   ]
  }
 ],
 "metadata": {
  "kernelspec": {
   "display_name": "Python 3",
   "language": "python",
   "name": "python3"
  },
  "language_info": {
   "codemirror_mode": {
    "name": "ipython",
    "version": 3
   },
   "file_extension": ".py",
   "mimetype": "text/x-python",
   "name": "python",
   "nbconvert_exporter": "python",
   "pygments_lexer": "ipython3",
   "version": "3.10.12"
  }
 },
 "nbformat": 4,
 "nbformat_minor": 2
}
