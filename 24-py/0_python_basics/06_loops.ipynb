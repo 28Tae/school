{
 "cells": [
  {
   "cell_type": "markdown",
   "metadata": {},
   "source": [
    "# 06 - Loops\n",
    "---\n",
    "### **Q1** - Mysterious Str\n",
    "Write the following functions as follows, strictly using `for` loops:\n",
    "- `contain_digits(s)` returns True only if a numeric digit exists in str `s`\n",
    "- `inverse(s)` returns the str `s` reversed\n",
    "- `remove_vowels(s)` returns a new `s` with the vowels case-insensitively removed\n",
    "- `mysterio(s)` hence reverses the str `s` if it contains digits, else it will remove the vowels off `s`"
   ]
  },
  {
   "cell_type": "code",
   "execution_count": 1,
   "metadata": {},
   "outputs": [],
   "source": [
    "# Q1\n",
    "def mysterio(s: str) -> str:\n",
    "    return inverse(s) if contain_digits(s) else remove_vowels(s)\n",
    "\n",
    "def contain_digits(s: str) -> bool:\n",
    "    for char in s:\n",
    "        if char.isdigit():\n",
    "            return True\n",
    "    return False\n",
    "\n",
    "def inverse(s: str) -> str:\n",
    "    result = \"\"\n",
    "    for idx in range(len(s)):\n",
    "        result += s[-idx - 1]\n",
    "    return result\n",
    "\n",
    "def remove_vowels(s: str) -> str:\n",
    "    result = \"\"\n",
    "    for char in s:\n",
    "        if char.lower() not in ('a', 'e', 'i', 'o', 'u'):\n",
    "            result += char\n",
    "    return result\n",
    "    \n",
    "\n",
    "assert mysterio(\"int3ere4sting!\") == \"!gnits4ere3tni\"\n",
    "assert mysterio(\"InteREstIn!\") == \"ntRstn!\"\n",
    "assert mysterio(\"AERt00IOUT\") == \"TUOI00tREA\""
   ]
  },
  {
   "cell_type": "markdown",
   "metadata": {},
   "source": [
    "### **Q2** - Zipper\n",
    "Write a function `zipper(s1, s2)` to read off two strings `s1` and `s2` respectively, adding add each character successively to a new result. \\\n",
    "If the shorter str has no remaining characters, all remaining characters of the longer str will be appended to the resultant str.\n",
    "\n",
    "| Given | Expected |\n",
    "| --- | --- |\n",
    "| \"abcdef\", \"678\" | \"a6b7c8def\" |"
   ]
  },
  {
   "cell_type": "code",
   "execution_count": 2,
   "metadata": {},
   "outputs": [],
   "source": [
    "# Q2\n",
    "def zipper(s1: str, s2: str) -> int:\n",
    "    max_len = max(len(s1), len(s2))\n",
    "    result = \"\"\n",
    "    for idx in range(max_len):\n",
    "        if idx < len(s1):\n",
    "            result += s1[idx]\n",
    "        if idx < len(s2):\n",
    "            result += s2[idx]\n",
    "    return result\n",
    "\n",
    "\n",
    "assert zipper(\"\", \"007\") == \"007\"\n",
    "assert zipper(\"007\", \"\") == \"007\"\n",
    "assert zipper(\"ABCDEF\", \"abc\") == \"AaBbCcDEF\"\n",
    "assert zipper(\"123\", \"longer\") == \"1l2o3nger\""
   ]
  },
  {
   "cell_type": "markdown",
   "metadata": {},
   "source": [
    "### **Q3** - Rock Paper Scissors `[!]`\n",
    "Write a function `rps_winner(p1: str, p2: str)` where `p1` and `p2` reflect a successive sequence of rock-paper-scissor games played between Player 1 and 2. Assume p1 and p2 are always equal in length. Let `R` be Rock, `S` be Scissors and `P` be Paper. \\\n",
    "`rps_winner()` should return \"Player 1\" if P1 won, \"Player 2\" if P2 won, or else \"Draw\"."
   ]
  },
  {
   "cell_type": "code",
   "execution_count": 3,
   "metadata": {},
   "outputs": [],
   "source": [
    "# Q3\n",
    "def rps_winner(P1: str, P2: str) -> str:\n",
    "    wins_1, wins_2 = 0, 0\n",
    "\n",
    "    # Analysing each move\n",
    "    for a, b in zip(P1, P2):\n",
    "\n",
    "        # Ignore draws\n",
    "        if a == b:\n",
    "            continue\n",
    "        \n",
    "        # Lowkey cheating but putting them as a string altogether\n",
    "        # S beats P, P beats R, R beats S...\n",
    "        elif a + b in \"SPRS\":\n",
    "            wins_1 += 1\n",
    "        else:\n",
    "            wins_2 += 1\n",
    "    \n",
    "    return \"Player 1\" if wins_1 > wins_2 else (\"Player 2\" if wins_1 < wins_2 else \"Draw\")\n",
    "\n",
    "\n",
    "assert rps_winner(\"SSPPRRP\", \"PPRRSSP\") == \"Player 1\"\n",
    "assert rps_winner(\"SPRS\", \"RSPR\") == \"Player 2\"\n",
    "assert rps_winner(\"SPRR\", \"PPPR\") == \"Draw\""
   ]
  },
  {
   "cell_type": "markdown",
   "metadata": {},
   "source": [
    "### **Q4** - $3^{rd}$ Digit Summable\n",
    "Write a function `is_third_digit_summed(i: str)`, which accepts str-numeric `i` and outputs a bool. For i to result in True, every digit after the 2nd char is equal to the least significant digit of the sum of the adjacently previous 2 digits.\n",
    "\n",
    "| Given | Expected |\n",
    "| --- | ---|\n",
    "| 13471 | True, since 1 + 3 = 4 -> 3 + 4 = 7 -> 4 + 7 = 11 (least 1) |"
   ]
  },
  {
   "cell_type": "code",
   "execution_count": 4,
   "metadata": {},
   "outputs": [],
   "source": [
    "# Q4\n",
    "def is_third_digit_summed(s: str) -> bool:\n",
    "    # Helper function for convenience\n",
    "    get_digit = lambda k: int(s[k])\n",
    "\n",
    "    for idx in range(2, len(s)):\n",
    "        # Sum previous 2 digits, mod 10 to get ones digit\n",
    "        total = get_digit(idx-2) + get_digit(idx-1)\n",
    "        least_sig = total % 10\n",
    "\n",
    "        if get_digit(idx) != least_sig:\n",
    "            return False\n",
    "        \n",
    "    return True\n",
    "\n",
    "\n",
    "assert is_third_digit_summed(\"123583145\") == True\n",
    "assert is_third_digit_summed(\"224606628\") == True\n",
    "assert is_third_digit_summed(\"0112358314\") == True\n",
    "assert is_third_digit_summed(\"12345\") == False"
   ]
  },
  {
   "cell_type": "markdown",
   "metadata": {},
   "source": [
    "### **Q5** - Caesar Cryptograph\n",
    "Implement `encrypt(s)` and `decrypt(s)`, which processes a fully-uppercase str `s` in such a way that encrypting a character is Caesar-shifting `+3`. \\\n",
    "Consider using `chr()` and `ord()` to process Unicode."
   ]
  },
  {
   "cell_type": "code",
   "execution_count": 5,
   "metadata": {},
   "outputs": [],
   "source": [
    "# Q5\n",
    "def encrypt(s: str) -> str:\n",
    "    result = \"\"\n",
    "    for char in s:\n",
    "        # Direct char operation\n",
    "        if 'A' <= char <= 'W':\n",
    "            result += chr(ord(char) + 3)\n",
    "        else:\n",
    "            result += chr(ord(char) - 23)\n",
    "    return result\n",
    "\n",
    "def decrypt(s: str) -> str:\n",
    "    result = \"\"\n",
    "    for char in s:\n",
    "        # Direct char operation\n",
    "        if 'D' <= char <= 'Z':\n",
    "            result += chr(ord(char) - 3)\n",
    "        elif 'A' <= char <= 'C':\n",
    "            result += chr(ord(char) + 23)\n",
    "    return result\n",
    "\n",
    "\n",
    "assert encrypt(\"ABCDEFUVWXYZ\") == \"DEFGHIXYZABC\"\n",
    "assert decrypt(\"ABCDEFUVWXYZ\") == \"XYZABCRSTUVW\"\n",
    "assert decrypt(encrypt(\"LOL\")) == encrypt(decrypt(\"LOL\")) == \"LOL\""
   ]
  },
  {
   "cell_type": "markdown",
   "metadata": {},
   "source": [
    "### **Q6** - Binary to Decimal `[!]`\n",
    "Implement `bin_to_dec(s)` which takes a str numeric `s` (binary exclusively), and convert to decimal int. You must NOT use `int(s, 2)`."
   ]
  },
  {
   "cell_type": "code",
   "execution_count": 6,
   "metadata": {},
   "outputs": [],
   "source": [
    "# Q6\n",
    "def bin_to_dec(s: int) -> int:\n",
    "    # Reverse str, start from 1s, then power up\n",
    "    s = s[::-1]\n",
    "    result = 0\n",
    "    for idx in range(len(s)):\n",
    "        # Raise power if digit is 1\n",
    "        if s[idx] == '1':\n",
    "            result += 2 ** idx\n",
    "    return result\n",
    "\n",
    "\n",
    "for expected, case in enumerate([\"0\", \"1\", \"10\", \"11\", \"100\", \"101\", \"110\", \"111\", \"1000\"]):\n",
    "    assert bin_to_dec(case) == expected"
   ]
  },
  {
   "cell_type": "markdown",
   "metadata": {},
   "source": [
    "### **Q7** - Fifteen Finder `[!]`\n",
    "Implement `fifteen_finder(s)` which takes in a str numeric `s` and finds if a consecutive substring of digits exist that add up to precisely 15. Try using a `while` loop."
   ]
  },
  {
   "cell_type": "code",
   "execution_count": 7,
   "metadata": {},
   "outputs": [],
   "source": [
    "# Q7\n",
    "def fifteen_finder(s: str) -> bool:\n",
    "    # Base case - If *entire* str sum below 15, then no substr would match 15\n",
    "    total_base = sum([int(char) for char in s])\n",
    "    if total_base < 15:\n",
    "        return False\n",
    "    \n",
    "    total, idx = 0, 0\n",
    "    # Scour thru first digits till total exceeds 15\n",
    "    while idx < len(s) and total < 15:\n",
    "        total += int(s[idx])\n",
    "        idx += 1\n",
    "    \n",
    "    # Success case - Exactly 15\n",
    "    if total == 15:\n",
    "        return True\n",
    "    \n",
    "    # Recursion - Search smaller string space, removing 1st char\n",
    "    return fifteen_finder(s[1:])\n",
    "\n",
    "\n",
    "assert fifteen_finder(\"1323322331231\") == True\n",
    "assert fifteen_finder(\"11111111111111\") == False\n",
    "assert fifteen_finder(\"1111111111111101\") == True"
   ]
  },
  {
   "cell_type": "markdown",
   "metadata": {},
   "source": [
    "### **Q8** - Sawteeth\n",
    "Write `is_saw_teeth(s)`, a function that processes a str numeric `s` where `len(s) >= 3`, returning True by either case where... (_d_ refers to the digit position at _s_)\n",
    "\n",
    "| Case 1 | Case 2 |\n",
    "| --- | --- |\n",
    "| d<sub> 1</sub> `<` d<sub> 2</sub> | d<sub> 1</sub> `>` d<sub> 2</sub> |\n",
    "| d<sub> 2</sub> `>` d<sub> 3</sub> | d<sub> 2</sub> `<` d<sub> 3</sub> |\n",
    "| d<sub> 3</sub> `<` d<sub> 4</sub> | d<sub> 3</sub> `>` d<sub> 4</sub> |\n",
    "| ... | ... |"
   ]
  },
  {
   "cell_type": "code",
   "execution_count": 8,
   "metadata": {},
   "outputs": [],
   "source": [
    "# Q8\n",
    "def is_saw_teeth(s: str) -> bool:\n",
    "    # Helper function for convenience\n",
    "    get_digit = lambda k: int(s[k])\n",
    "\n",
    "    larger_now: bool = get_digit(0) < get_digit(1)\n",
    "\n",
    "    for idx in range(1, len(s) - 1):\n",
    "        dgt_this, dgt_nxt = get_digit(idx), get_digit(idx + 1)\n",
    "\n",
    "        if not (\n",
    "            (dgt_this > dgt_nxt and larger_now) or\n",
    "            (dgt_this < dgt_nxt and not larger_now)\n",
    "        ):\n",
    "            return False   \n",
    "        \n",
    "        # Alternate\n",
    "        larger_now = not larger_now\n",
    "        \n",
    "    return True\n",
    "\n",
    "\n",
    "assert is_saw_teeth(\"435\") == True\n",
    "assert is_saw_teeth(\"983\") == False\n",
    "assert is_saw_teeth(\"977\") == False\n",
    "assert is_saw_teeth(\"1214364\") == True"
   ]
  },
  {
   "cell_type": "markdown",
   "metadata": {},
   "source": [
    "### **Q9a** - Factorial\n",
    "Write a function using `for` loop which outputs $n!$ of an int `n`. \\\n",
    "*Challenge: Can you use recursion?*"
   ]
  },
  {
   "cell_type": "code",
   "execution_count": 9,
   "metadata": {},
   "outputs": [],
   "source": [
    "# Q9\n",
    "def factorial(n: int) -> int:\n",
    "    res = 1\n",
    "    while n > 0:\n",
    "        res *= n\n",
    "        n -= 1\n",
    "    return res\n",
    "\n",
    "\n",
    "# Check P5B-C on advanced functions\n",
    "def factorial_recursion(n: int) -> int:\n",
    "    if n == 0:\n",
    "        return 1\n",
    "    return n * factorial_recursion(n - 1)\n",
    "\n",
    "\n",
    "assert factorial(1) == factorial_recursion(1) == 1\n",
    "assert factorial(13) == factorial_recursion(13) == 6227020800"
   ]
  },
  {
   "cell_type": "markdown",
   "metadata": {},
   "source": [
    "### **Q9b** - Pascal's (Mini) Sequence\n",
    "Hence using `factorial(n: int)`, write a function `pascal_triangle(n: int)` that takes in an integer `n` not more than $5$ (any higher integers will incur double-digit numbers), and returns the string in the following format.\n",
    "\n",
    "In the following example, n = 5, \"_\" represents space characters \" \".\n",
    "```\n",
    "____1____\n",
    "___1_1___   \n",
    "__1_2_1__  \n",
    "_1_3_3_1_\n",
    "1_4_6_4_1\n",
    "```"
   ]
  },
  {
   "cell_type": "code",
   "execution_count": 10,
   "metadata": {},
   "outputs": [],
   "source": [
    "# Q9\n",
    "def pascal_triangle(n: int) -> str:\n",
    "    \n",
    "    if n >= 6:\n",
    "        raise ValueError(\"n must be below 5\")\n",
    "    \n",
    "    result = \"\"\n",
    "    # n, r indexes start at 0\n",
    "    # nCr = n!/((n-r)! r!)\n",
    "    # where n is row num, r is col num\n",
    "    for row in range(1, n + 1):\n",
    "        max_len = n * 2 - 1\n",
    "        encased_len = int(max_len/2 - row + 1)\n",
    "        \n",
    "        # If you love NESTED loops so much, voila\n",
    "        # Outer loop deals with each row, triple inner loops for cells & padding\n",
    "        for j in range(encased_len):\n",
    "            result += \" \"\n",
    "\n",
    "        # Use binomial theorem & nCr (combinatorics) to find each cell\n",
    "        cells = []\n",
    "        for cell in range(row):\n",
    "            r = row - 1\n",
    "            denom = factorial(r-cell) * factorial(cell)\n",
    "            cells.append(str(int(factorial(r)/denom)))\n",
    "        \n",
    "        result += \" \".join(cells)\n",
    "        # Add back spaces, attach newline\n",
    "        for j in range(encased_len):\n",
    "            result += \" \"\n",
    "        result += \"\\n\"\n",
    "    \n",
    "    # Strip out last \"\\n\"\n",
    "    return result[:-1]"
   ]
  },
  {
   "cell_type": "markdown",
   "metadata": {},
   "source": [
    "### **Q10a** - Reverse String\n",
    "Without using `s[::-1]` or `reversed(s)`, iteratively reverse `s: str`.\n",
    "*Challenge: Use recursion.*"
   ]
  },
  {
   "cell_type": "code",
   "execution_count": 11,
   "metadata": {},
   "outputs": [],
   "source": [
    "# Q10\n",
    "def reverse_str(s: str) -> str:\n",
    "    total = \"\"\n",
    "    for char in s:\n",
    "        total = char + total\n",
    "    return total\n",
    "\n",
    "def reverse_str_recursive(s: str) -> str:\n",
    "    if len(s) == 0:\n",
    "        return \"\"\n",
    "    return reverse_str_recursive(s[1:]) + s[0]\n",
    "\n",
    "\n",
    "assert reverse_str(\"LEON IS FAT\") == reverse_str_recursive(\"LEON IS FAT\") == \"TAF SI NOEL\" != \"leon is skinny\""
   ]
  },
  {
   "cell_type": "markdown",
   "metadata": {},
   "source": [
    "### **Q10b** - Swap 2 Letters\n",
    "Given `swap(s: str, pos_A: int, pos_B: int)`, swap the characters at the `pos_A` index and the `pos_B` index in `s`.\n",
    "\n",
    "Assume `pos_A` and `pos_B` are *valid string indices*. However since your user is not zeroeth-trained (not a programmer), so the first `pos_A` and `pos_B` index *starts at $1$*, not $0$."
   ]
  },
  {
   "cell_type": "code",
   "execution_count": 12,
   "metadata": {},
   "outputs": [],
   "source": [
    "# Q10\n",
    "def swap_position(s: str, pos_a: int, pos_b: int) -> str:\n",
    "    # Decompose into list, swap, then reconstruct\n",
    "    a, b = pos_a - 1, pos_b - 1\n",
    "    lst = list(s)\n",
    "    lst[a], lst[b] = lst[b], lst[a]\n",
    "    return ''.join(lst)\n",
    "\n",
    "\n",
    "assert swap_position(\"coffee\", 1, 6) == \"eoffec\""
   ]
  },
  {
   "cell_type": "markdown",
   "metadata": {},
   "source": [
    "### **Q10c** - Reverse by Part\n",
    "Given `swap(s: str, start: int, end: int)`, reverse the characters between the `start` index and the `end` index in `s` (both indices inclusive).\n",
    "\n",
    "Assume `start` and `end` are *valid string indices*. However since your user is not zeroeth-trained (not a programmer), so the first `start` and `end` index *starts at $1$*, not $0$."
   ]
  },
  {
   "cell_type": "code",
   "execution_count": 13,
   "metadata": {},
   "outputs": [],
   "source": [
    "# Q10\n",
    "def reverse_part(s: str, start: int, end: int) -> str:\n",
    "    # Leave end as it is, but add start\n",
    "    start -= 1\n",
    "    \n",
    "    # Extract and reverse the ranged str\n",
    "    substr = s[start:end][::-1]\n",
    "    \n",
    "    return s[:start] + substr + s[end:]\n",
    "\n",
    "\n",
    "assert reverse_part(\"yebo gets stressed\", 11, 18).upper() == \"YEBO GETS DESSERTS\""
   ]
  }
 ],
 "metadata": {
  "kernelspec": {
   "display_name": "Python 3",
   "language": "python",
   "name": "python3"
  },
  "language_info": {
   "codemirror_mode": {
    "name": "ipython",
    "version": 3
   },
   "file_extension": ".py",
   "mimetype": "text/x-python",
   "name": "python",
   "nbconvert_exporter": "python",
   "pygments_lexer": "ipython3",
   "version": "3.10.12"
  }
 },
 "nbformat": 4,
 "nbformat_minor": 2
}
