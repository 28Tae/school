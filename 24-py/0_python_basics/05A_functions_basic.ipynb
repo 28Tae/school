{
 "cells": [
  {
   "cell_type": "markdown",
   "metadata": {},
   "source": [
    "# 05A - Functions\n",
    "---\n",
    "### **Q1** - 2-point Distance\n",
    "Define a function `distance(x1, x2, y1, y2)` that returns the distance of coordinates of 2 points on the same plane."
   ]
  },
  {
   "cell_type": "code",
   "execution_count": 1,
   "metadata": {},
   "outputs": [],
   "source": [
    "# Q1\n",
    "import math\n",
    "\n",
    "def distance(x1: int, y1: int, x2: int, y2: int) -> float:\n",
    "    return math.sqrt((x1 - x2)**2 + (y1 - y2)**2)\n",
    "\n",
    "\n",
    "assert distance(2, 2, 5, 6) == 5.0"
   ]
  },
  {
   "cell_type": "markdown",
   "metadata": {},
   "source": [
    "### **Q2** - Max-of-3\n",
    "Given three integers, find the maximum through a `max_of_three(x, y, z)` function."
   ]
  },
  {
   "cell_type": "code",
   "execution_count": 2,
   "metadata": {},
   "outputs": [],
   "source": [
    "# Q2\n",
    "def max_of_three(x: int, y: int, z: int) -> float:\n",
    "    # Did you expect more...\n",
    "    return max(x, y, z)\n",
    "\n",
    "assert max_of_three(100, -5, 10) == 100.0"
   ]
  },
  {
   "cell_type": "markdown",
   "metadata": {},
   "source": [
    "### **Q3** - 2 Bigger Squares\n",
    "In `bigger_sum(a, b, c)`, given three integers, return the sum of the squares of the 2 larger integers.\n",
    "\n",
    "| Given | Expected |\n",
    "| --- | ---|\n",
    "| (1, 2, 3) | 13, since 2<sup>2</sup> + 3<sup>2</sup> = 13|"
   ]
  },
  {
   "cell_type": "code",
   "execution_count": 3,
   "metadata": {},
   "outputs": [],
   "source": [
    "# Q3\n",
    "def bigger_sum(a: int, b: int, c: int) -> int:\n",
    "    # Sort a, b, c, then take last 2 indexes\n",
    "    sort_li = sorted([a, b, c])\n",
    "    return (sort_li[1] ** 2) + (sort_li[2] ** 2)\n",
    "\n",
    "\n",
    "assert bigger_sum(1, 2, 3) == 13\n",
    "assert bigger_sum(3, 1, 2) == 13\n",
    "assert bigger_sum(-1, -2, -99) == 5\n",
    "assert round(bigger_sum(5.1, 5.123, 5.12), 4) == 52.4595"
   ]
  },
  {
   "cell_type": "markdown",
   "metadata": {},
   "source": [
    "### **Q4.** - Stuck in Middle\n",
    "Given `old_str`, try to insert the extra string `extra_str` in the middle of the original string. Use string slice operation `[start:stop:step]`."
   ]
  },
  {
   "cell_type": "code",
   "execution_count": 4,
   "metadata": {},
   "outputs": [],
   "source": [
    "# Q4, given\n",
    "old_str = \"psychical\"\n",
    "extra_str = \"holog\"\n",
    "\n",
    "# Code here\n",
    "mid_idx = len(old_str) // 2\n",
    "result = old_str[:mid_idx] + extra_str + old_str[mid_idx+1:]\n",
    "\n",
    "assert result == \"psychological\""
   ]
  },
  {
   "cell_type": "markdown",
   "metadata": {},
   "source": [
    "### **Q5.** - Triangulation\n",
    "In `triangle(a: int, b: int, c: int)` with 3 positive integers denoting the sides of a triangle, determine its type.\n",
    "\n",
    "| Type | Description |\n",
    "| --- | --- |\n",
    "| Not triangle | Length of one side ≥ Sum of other two sides |\n",
    "| Equilateral | All sides same |\n",
    "| Isosceles | 2 sides same, not equilateral |\n",
    "| Scalene | No sides same |"
   ]
  },
  {
   "cell_type": "code",
   "execution_count": 5,
   "metadata": {},
   "outputs": [],
   "source": [
    "# Q5\n",
    "def triangle(a: int, b: int, c: int) -> str:\n",
    "\n",
    "    # Use triangle inequality\n",
    "    max_side: int = max(a, b, c) \n",
    "    two_other: int = sum((a, b, c)) - max_side\n",
    "    if max_side >= two_other:\n",
    "        return \"Not triangle\"\n",
    "    \n",
    "    # Weed duplicates\n",
    "    # Then use a match-case (a bit like if-else)\n",
    "    new_sides = set([a, b, c])\n",
    "    match len(new_sides):\n",
    "        case 1:\n",
    "            return \"Equilateral\"\n",
    "        case 2:\n",
    "            return \"Isosceles\"\n",
    "        case _:\n",
    "            return \"Scalene\"\n",
    "\n",
    "\n",
    "assert triangle(999, 3, 4) == 'Not triangle'\n",
    "assert triangle(7, 7, 7) == 'Equilateral'\n",
    "assert triangle(5, 3, 3) == 'Isosceles'\n",
    "assert triangle(3, 4, 5) == 'Scalene'"
   ]
  },
  {
   "cell_type": "markdown",
   "metadata": {},
   "source": [
    "### **Q6** - Negative Odd Positive Even!? NOPE!?\n",
    "Write a function `nope(i: int)`, which accepts `i` and outputs an int, by:\n",
    "\n",
    "| Given | Return |\n",
    "| --- | ---|\n",
    "| Zero | Zero |\n",
    "| Positive & Odd | Next larger odd number |\n",
    "| Positive & Even | Next smaller even number |\n",
    "| Negative & Odd | Next smaller odd number |\n",
    "| Negative & Even | Next larger even number |"
   ]
  },
  {
   "cell_type": "code",
   "execution_count": 6,
   "metadata": {},
   "outputs": [],
   "source": [
    "# Q6\n",
    "def nope(i: int) -> int:    \n",
    "    # Consider x + 2 if positive-odd or negative-even,\n",
    "    # Whereas x - 2 if positive-even or negative-odd\n",
    "    # Use XOR for EXCLUSIVELY either [positive] or [odd] for (x - 2)\n",
    "\n",
    "    xor = (int(i % 2 == 0) + int(i < 0) == 1) \n",
    "    if i == 0:\n",
    "        return 0\n",
    "    elif xor:\n",
    "        return (i - 2)\n",
    "    else:\n",
    "        return (i + 2)\n",
    "\n",
    "\n",
    "for case, expected in zip(\n",
    "    [0, -1, -2, -3, 1, 2, 3, 8, 876],   # Inputs\n",
    "    [0, -3, 0, -5, 3, 0, 5, 6, 874]     # Expected\n",
    "):\n",
    "    assert nope(case) == expected"
   ]
  },
  {
   "cell_type": "markdown",
   "metadata": {},
   "source": [
    "### **Q7** - Inflect\n",
    "Write `inflect(i: int)`, given `i` to be bounded 0-99 (inclusive), and write in English.\n",
    "\n",
    "| Given | Expected |\n",
    "| --- | ---|\n",
    "| 0 | zero |\n",
    "| 11 | eleven \n",
    "| 30 | thirty |\n",
    "| 69 | sixty-nine |"
   ]
  },
  {
   "cell_type": "code",
   "execution_count": 7,
   "metadata": {},
   "outputs": [],
   "source": [
    "# Q7\n",
    "\n",
    "TENS = ['twenty', 'thirty', 'forty', 'fifty', 'sixty', 'seventy', 'eighty', 'ninety']\n",
    "TEENS = ['ten', 'eleven', 'twelve', 'thirteen', 'fourteen', 'fifteen', 'sixteen', 'seventeen', 'eighteen', 'nineteen']\n",
    "ONES = ['zero', 'one', 'two', 'three', 'four', 'five', 'six', 'seven', 'eight', 'nine']\n",
    "\n",
    "\n",
    "def inflect(x: int) -> str:\n",
    "    if x <= 9:\n",
    "        return ONES[x%10]\n",
    "    elif x <= 19:\n",
    "        return TEENS[x%10]\n",
    "    \n",
    "    # Floor div to tens list\n",
    "    # Modulo to tag in ones\n",
    "\n",
    "    eng_str = TENS[x//10 - 2]\n",
    "    if x % 10 != 0:\n",
    "        eng_str += f\"-{ONES[x%10]}\"\n",
    "    return eng_str\n",
    "\n",
    "\n",
    "# for i in range(100):\n",
    "#     print(inflect(i), end = \", \")"
   ]
  }
 ],
 "metadata": {
  "kernelspec": {
   "display_name": "Python 3",
   "language": "python",
   "name": "python3"
  },
  "language_info": {
   "codemirror_mode": {
    "name": "ipython",
    "version": 3
   },
   "file_extension": ".py",
   "mimetype": "text/x-python",
   "name": "python",
   "nbconvert_exporter": "python",
   "pygments_lexer": "ipython3",
   "version": "3.10.12"
  }
 },
 "nbformat": 4,
 "nbformat_minor": 2
}
