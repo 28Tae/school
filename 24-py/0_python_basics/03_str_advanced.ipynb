{
 "cells": [
  {
   "cell_type": "markdown",
   "metadata": {},
   "source": [
    "# 03+ - Advanced String Formatting\n",
    "---\n",
    "### $f$-string & `.format()`\n",
    "\n",
    "```python\n",
    "f\"{aa} {bb} {cc} {bb} {special}\"\n",
    "# is equal to\n",
    "\"{0} {1} {2} {1} {k}\".format(aa, bb, cc, k=special)\n",
    "```"
   ]
  },
  {
   "cell_type": "markdown",
   "metadata": {},
   "source": [
    "### I. Padding/Spacing\n",
    "```py\n",
    "{[index/variable]:[pad-char][aligner <^>][total chars]}\n",
    "```"
   ]
  },
  {
   "cell_type": "code",
   "execution_count": 1,
   "metadata": {},
   "outputs": [
    {
     "name": "stdout",
     "output_type": "stream",
     "text": [
      "|lol      |\n",
      "|   lol   |\n",
      "|      lol|\n",
      "|***lol***|\n"
     ]
    }
   ],
   "source": [
    "s = \"lol\"\n",
    "print(f\"|{s:<9}|\")\n",
    "print(f\"|{s:^9}|\")\n",
    "print(f\"|{s:>9}|\")\n",
    "print(f\"|{s:*^9}|\")"
   ]
  },
  {
   "cell_type": "markdown",
   "metadata": {},
   "source": [
    "### II. Integer/Float\n",
    "Given integer `d`, float `f` and percent `%` formatting, with optional comma `,` separation\n",
    "```py\n",
    "{[index/variable]:[leading-char][,][total chars][. decimal places]d/f/%}\n",
    "```"
   ]
  },
  {
   "cell_type": "code",
   "execution_count": 2,
   "metadata": {},
   "outputs": [
    {
     "name": "stdout",
     "output_type": "stream",
     "text": [
      "  69\n",
      "0069\n",
      " 3.142\n",
      "00003.142\n",
      "      314.16%\n",
      "0,000,314.16%\n"
     ]
    }
   ],
   "source": [
    "from math import pi\n",
    "print(\"{:4d}\".format(69))      #   69\n",
    "print(\"{:04d}\".format(69))     # 0069\n",
    "print(\"{:6.3f}\".format(pi))    #  3.142\n",
    "print(\"{:09.3f}\".format(pi))   # 00003.142\n",
    "print(\"{:13,.2%}\".format(pi))  #       314.16%\n",
    "print(\"{:013,.2%}\".format(pi)) # 0,000,314.16%"
   ]
  }
 ],
 "metadata": {
  "kernelspec": {
   "display_name": "Python 3",
   "language": "python",
   "name": "python3"
  },
  "language_info": {
   "codemirror_mode": {
    "name": "ipython",
    "version": 3
   },
   "file_extension": ".py",
   "mimetype": "text/x-python",
   "name": "python",
   "nbconvert_exporter": "python",
   "pygments_lexer": "ipython3",
   "version": "3.10.12"
  }
 },
 "nbformat": 4,
 "nbformat_minor": 2
}
