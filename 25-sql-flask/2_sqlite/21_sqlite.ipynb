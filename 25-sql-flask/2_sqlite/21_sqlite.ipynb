{
 "cells": [
  {
   "cell_type": "markdown",
   "id": "e9fb5cfd",
   "metadata": {},
   "source": [
    "# SQLITE3 with Python\n",
    "--- \n",
    "## **`2.1` - CRUD Syntax**\n",
    "SELECT, INSERT INTO, UPDATE (increment), DELETE FROM, DROP TABLE"
   ]
  },
  {
   "cell_type": "code",
   "execution_count": null,
   "id": "53fdfbae",
   "metadata": {
    "vscode": {
     "languageId": "sql"
    }
   },
   "outputs": [],
   "source": [
    "-- Creating\n",
    "CREATE TABLE blackies (\n",
    "    id INTEGER PRIMARY KEY AUTOINCREMENT,\n",
    "    price INTEGER DEFAULT 0 CHECK (price >= 0),\n",
    "    sold INTEGER DEFAULT 0 CHECK (sold IN (0, 1)),\n",
    "    name TEXT NOT NULL,\n",
    "    FOREIGN KEY (id) REFERENCES blackie_audits(id)\n",
    ");\n",
    "\n",
    "-- Select\n",
    "SELECT col1, col2 FROM t1 [WHERE condition] [ORDER by col DESC];\n",
    "\n",
    "-- Inserting\n",
    "INSERT INTO t1 (col1, col2) VALUES (v1, v2);\n",
    "\n",
    "-- Updating\n",
    "UPDATE t1 SET col1 = v1, col2 = v2, col3 = v3 [WHERE condition];\n",
    "UPDATE enrolment SET \"count\" = \"count\" + 5 WHERE condition; --Increment by 5\n",
    "\n",
    "-- Deleting\n",
    "DELETE FROM t1 WHERE condition;"
   ]
  },
  {
   "cell_type": "markdown",
   "id": "79ce7fe1",
   "metadata": {},
   "source": [
    "### 2.1.1 - Functions\n",
    "> To concantenate strings, do `s1||s2`\n",
    "\n",
    "\n",
    "| f(x) | Use | Eg |\n",
    "| --- | --- | --- |\n",
    "| __**`COUNT()`**__ | Count rows | `SELECT COUNT(*) FROM table` |\n",
    "| __**`MAX()/MIN()`**__ | Max/min of | ... |\n",
    "| __**`SUM()`**__ | Returns a sum | ... |\n",
    "| __**`AVG()`**__ | Averages | ... |\n",
    "| `GROUP BY col` | Aggregate by group | `SELECT company FROM sales GROUP BY agent` |\n",
    "| `LIMIT n` | Limits no. of rows | `SELECT * FROM Books LIMIT 5` |\n",
    "| __**`DISTINCT col`**__ | Unique | `SELECT DISTINCT PublisherID AS UniquePublishers FROM Book` |\n",
    "| __**`INNER JOIN`**__ | Join tables | `SELECT ... FROM t1 INNER JOIN t2 ON t1.col=t2.col` |\n",
    "\n",
    "### 2.1.2 - SQLITE3 in Python"
   ]
  },
  {
   "cell_type": "code",
   "execution_count": null,
   "id": "daca9bec",
   "metadata": {},
   "outputs": [],
   "source": [
    "import sqlite3\n",
    "DB_FILE = \"your_file.db\"\n",
    "some_tuple = ('', '')\n",
    "\n",
    "\n",
    "def select_query(query, tup=None):\n",
    "    # Use question marks\n",
    "    # connect, execute(\"SELECT ... WHERE val = ?\", tuple)\n",
    "    conn = sqlite3.connect(DB_FILE)\n",
    "    cursor = conn.execute(query, tup) if tup else conn.execute(query)\n",
    "    data = cursor.fetchall()\n",
    "    cursor.close()\n",
    "    conn.close()\n",
    "    return data\n",
    "\n",
    "\n",
    "def commit_query(query, tup):\n",
    "    conn = sqlite3.connect(DB_FILE)\n",
    "    conn.execute(query, tup)\n",
    "    conn.commit()\n",
    "    conn.close()\n",
    "\n",
    "\n",
    "select_query(\"SELECT * FROM books WHERE PublisherID = ? LIMIT ?\", some_tuple)\n",
    "commit_query(\"INSERT INTO books (c1, c2) VALUES (?, ?)\", some_tuple)\n",
    "commit_query('UPDATE books SET \"age\" = \"age\" + 1 WHERE id = ?', some_tuple)"
   ]
  },
  {
   "cell_type": "markdown",
   "id": "98930754",
   "metadata": {},
   "source": [
    "## **`2.2` - CSV Reading**\n",
    "1. Open each file using `with open(file_path, mode)`<br>\n",
    "2. Use a **csv reader** by `csv.reader()`<br>\n",
    "3. Store **header row** by `next(reader)`<br>\n",
    "4. Generate `(?, ?...)` placeholder tuple<br>\n",
    "5. Tuple row & header into query, and execute in for loop of reader"
   ]
  },
  {
   "cell_type": "code",
   "execution_count": null,
   "id": "3d42c0cf",
   "metadata": {},
   "outputs": [],
   "source": [
    "import csv, sqlite3\n",
    "TABLE_FILES: dict = {\n",
    "    \"User\": \"users.csv\",\n",
    "    \"Job\": \"jobs.csv\",\n",
    "    \"WorkerJob\": \"workerjobs.csv\",\n",
    "    \"ContractRecord\": \"records.csv\",\n",
    "}\n",
    "DB_FILE = \"your_file.db\"\n",
    "\n",
    "def csv_read():\n",
    "    for table in TABLE_FILES:\n",
    "        conn = sqlite3.connect(DB_FILE)\n",
    "        with open(\"/data_files/{table}\") as f:\n",
    "\n",
    "            # Generate reader & get header\n",
    "            read = csv.reader(f)\n",
    "            header = next(read)\n",
    "            placeholders = \", \".join([\"?\" for _ in header])\n",
    "\n",
    "            # Dump values into placeholders per row\n",
    "            for row in read:\n",
    "                conn.execute(\n",
    "                    f\"INSERT INTO {table} ({tuple(header)}) VALUES ({placeholders})\",\n",
    "                    tuple(row)\n",
    "                )\n",
    "\n",
    "        # Remember to commit and close\n",
    "        conn.commit()\n",
    "        conn.close()"
   ]
  }
 ],
 "metadata": {
  "language_info": {
   "name": "python"
  }
 },
 "nbformat": 4,
 "nbformat_minor": 5
}
